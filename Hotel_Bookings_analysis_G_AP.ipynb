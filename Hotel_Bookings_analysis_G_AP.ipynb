{
  "nbformat": 4,
  "nbformat_minor": 0,
  "metadata": {
    "colab": {
      "name": "Hotel Bookings analysis_G_AP",
      "provenance": [],
      "collapsed_sections": [],
      "authorship_tag": "ABX9TyNhxZVANH/D0ePJeNMP/y82",
      "include_colab_link": true
    },
    "kernelspec": {
      "name": "python3",
      "display_name": "Python 3"
    },
    "language_info": {
      "name": "python"
    }
  },
  "cells": [
    {
      "cell_type": "markdown",
      "metadata": {
        "id": "view-in-github",
        "colab_type": "text"
      },
      "source": [
        "<a href=\"https://colab.research.google.com/github/ArunPrasath1205/Exploratory-Data-Analysis/blob/main/Hotel_Bookings_analysis_G_AP.ipynb\" target=\"_parent\"><img src=\"https://colab.research.google.com/assets/colab-badge.svg\" alt=\"Open In Colab\"/></a>"
      ]
    },
    {
      "cell_type": "markdown",
      "source": [
        "#**Exploratary Data Analysis(EDA) on Hotel Bookings**"
      ],
      "metadata": {
        "id": "yqPFz508YLcj"
      }
    },
    {
      "cell_type": "markdown",
      "source": [
        "## **Importing Libraries**"
      ],
      "metadata": {
        "id": "IyiSTN3SYQIo"
      }
    },
    {
      "cell_type": "code",
      "execution_count": null,
      "metadata": {
        "id": "-8Vzw9oPXuqE"
      },
      "outputs": [],
      "source": [
        "import pandas as pd\n",
        "import numpy as np\n",
        "import matplotlib.pyplot as plt\n",
        "%matplotlib inline\n",
        "\n",
        "import seaborn as sns\n",
        "\n",
        "from datetime import datetime\n",
        "from datetime import date\n",
        "\n",
        "import warnings\n",
        "warnings.filterwarnings('ignore') #Used when finding the outliers"
      ]
    },
    {
      "cell_type": "code",
      "source": [
        "from google.colab import drive\n",
        "drive.mount('/content/drive')"
      ],
      "metadata": {
        "colab": {
          "base_uri": "https://localhost:8080/"
        },
        "id": "rNYmDZhnYxT9",
        "outputId": "cdb40a0b-982d-486c-d068-f69c9c932096"
      },
      "execution_count": null,
      "outputs": [
        {
          "output_type": "stream",
          "name": "stdout",
          "text": [
            "Mounted at /content/drive\n"
          ]
        }
      ]
    },
    {
      "cell_type": "code",
      "source": [
        "# Enabling the Google drive access\n",
        "# Created filepath directory\n",
        "\n",
        "path=\"/content/drive/MyDrive/Almabetter/Python for data science/Python Projects /EDA capstone project 1/Hotel Bookings (1).csv\"\n",
        "df=pd.read_csv(path)"
      ],
      "metadata": {
        "id": "vPASDcaMY0kv"
      },
      "execution_count": null,
      "outputs": []
    },
    {
      "cell_type": "markdown",
      "source": [
        "## **Data Understanding**\n",
        "\n",
        "* Data understanding focuses on the comprehension of the information available in the project."
      ],
      "metadata": {
        "id": "2VJ9U1vnZCcF"
      }
    },
    {
      "cell_type": "code",
      "source": [
        "df.shape"
      ],
      "metadata": {
        "colab": {
          "base_uri": "https://localhost:8080/"
        },
        "id": "bkhc-c1pY9ZU",
        "outputId": "a744a0da-132d-466b-d6ba-f820e302974e"
      },
      "execution_count": null,
      "outputs": [
        {
          "output_type": "execute_result",
          "data": {
            "text/plain": [
              "(119390, 32)"
            ]
          },
          "metadata": {},
          "execution_count": 5
        }
      ]
    },
    {
      "cell_type": "code",
      "source": [
        "df.head(5)"
      ],
      "metadata": {
        "colab": {
          "base_uri": "https://localhost:8080/",
          "height": 386
        },
        "id": "dK54wHR_ZIYX",
        "outputId": "2811a6bf-bff2-4fba-92b2-68ad3da089e7"
      },
      "execution_count": null,
      "outputs": [
        {
          "output_type": "execute_result",
          "data": {
            "text/plain": [
              "          hotel  is_canceled  lead_time  arrival_date_year arrival_date_month  \\\n",
              "0  Resort Hotel            0        342               2015               July   \n",
              "1  Resort Hotel            0        737               2015               July   \n",
              "2  Resort Hotel            0          7               2015               July   \n",
              "3  Resort Hotel            0         13               2015               July   \n",
              "4  Resort Hotel            0         14               2015               July   \n",
              "\n",
              "   arrival_date_week_number  arrival_date_day_of_month  \\\n",
              "0                        27                          1   \n",
              "1                        27                          1   \n",
              "2                        27                          1   \n",
              "3                        27                          1   \n",
              "4                        27                          1   \n",
              "\n",
              "   stays_in_weekend_nights  stays_in_week_nights  adults  ...  deposit_type  \\\n",
              "0                        0                     0       2  ...    No Deposit   \n",
              "1                        0                     0       2  ...    No Deposit   \n",
              "2                        0                     1       1  ...    No Deposit   \n",
              "3                        0                     1       1  ...    No Deposit   \n",
              "4                        0                     2       2  ...    No Deposit   \n",
              "\n",
              "   agent company days_in_waiting_list customer_type   adr  \\\n",
              "0    NaN     NaN                    0     Transient   0.0   \n",
              "1    NaN     NaN                    0     Transient   0.0   \n",
              "2    NaN     NaN                    0     Transient  75.0   \n",
              "3  304.0     NaN                    0     Transient  75.0   \n",
              "4  240.0     NaN                    0     Transient  98.0   \n",
              "\n",
              "   required_car_parking_spaces  total_of_special_requests  reservation_status  \\\n",
              "0                            0                          0           Check-Out   \n",
              "1                            0                          0           Check-Out   \n",
              "2                            0                          0           Check-Out   \n",
              "3                            0                          0           Check-Out   \n",
              "4                            0                          1           Check-Out   \n",
              "\n",
              "  reservation_status_date  \n",
              "0              2015-07-01  \n",
              "1              2015-07-01  \n",
              "2              2015-07-02  \n",
              "3              2015-07-02  \n",
              "4              2015-07-03  \n",
              "\n",
              "[5 rows x 32 columns]"
            ],
            "text/html": [
              "\n",
              "  <div id=\"df-0ff54d6f-44c7-4407-8535-66f2466d9f62\">\n",
              "    <div class=\"colab-df-container\">\n",
              "      <div>\n",
              "<style scoped>\n",
              "    .dataframe tbody tr th:only-of-type {\n",
              "        vertical-align: middle;\n",
              "    }\n",
              "\n",
              "    .dataframe tbody tr th {\n",
              "        vertical-align: top;\n",
              "    }\n",
              "\n",
              "    .dataframe thead th {\n",
              "        text-align: right;\n",
              "    }\n",
              "</style>\n",
              "<table border=\"1\" class=\"dataframe\">\n",
              "  <thead>\n",
              "    <tr style=\"text-align: right;\">\n",
              "      <th></th>\n",
              "      <th>hotel</th>\n",
              "      <th>is_canceled</th>\n",
              "      <th>lead_time</th>\n",
              "      <th>arrival_date_year</th>\n",
              "      <th>arrival_date_month</th>\n",
              "      <th>arrival_date_week_number</th>\n",
              "      <th>arrival_date_day_of_month</th>\n",
              "      <th>stays_in_weekend_nights</th>\n",
              "      <th>stays_in_week_nights</th>\n",
              "      <th>adults</th>\n",
              "      <th>...</th>\n",
              "      <th>deposit_type</th>\n",
              "      <th>agent</th>\n",
              "      <th>company</th>\n",
              "      <th>days_in_waiting_list</th>\n",
              "      <th>customer_type</th>\n",
              "      <th>adr</th>\n",
              "      <th>required_car_parking_spaces</th>\n",
              "      <th>total_of_special_requests</th>\n",
              "      <th>reservation_status</th>\n",
              "      <th>reservation_status_date</th>\n",
              "    </tr>\n",
              "  </thead>\n",
              "  <tbody>\n",
              "    <tr>\n",
              "      <th>0</th>\n",
              "      <td>Resort Hotel</td>\n",
              "      <td>0</td>\n",
              "      <td>342</td>\n",
              "      <td>2015</td>\n",
              "      <td>July</td>\n",
              "      <td>27</td>\n",
              "      <td>1</td>\n",
              "      <td>0</td>\n",
              "      <td>0</td>\n",
              "      <td>2</td>\n",
              "      <td>...</td>\n",
              "      <td>No Deposit</td>\n",
              "      <td>NaN</td>\n",
              "      <td>NaN</td>\n",
              "      <td>0</td>\n",
              "      <td>Transient</td>\n",
              "      <td>0.0</td>\n",
              "      <td>0</td>\n",
              "      <td>0</td>\n",
              "      <td>Check-Out</td>\n",
              "      <td>2015-07-01</td>\n",
              "    </tr>\n",
              "    <tr>\n",
              "      <th>1</th>\n",
              "      <td>Resort Hotel</td>\n",
              "      <td>0</td>\n",
              "      <td>737</td>\n",
              "      <td>2015</td>\n",
              "      <td>July</td>\n",
              "      <td>27</td>\n",
              "      <td>1</td>\n",
              "      <td>0</td>\n",
              "      <td>0</td>\n",
              "      <td>2</td>\n",
              "      <td>...</td>\n",
              "      <td>No Deposit</td>\n",
              "      <td>NaN</td>\n",
              "      <td>NaN</td>\n",
              "      <td>0</td>\n",
              "      <td>Transient</td>\n",
              "      <td>0.0</td>\n",
              "      <td>0</td>\n",
              "      <td>0</td>\n",
              "      <td>Check-Out</td>\n",
              "      <td>2015-07-01</td>\n",
              "    </tr>\n",
              "    <tr>\n",
              "      <th>2</th>\n",
              "      <td>Resort Hotel</td>\n",
              "      <td>0</td>\n",
              "      <td>7</td>\n",
              "      <td>2015</td>\n",
              "      <td>July</td>\n",
              "      <td>27</td>\n",
              "      <td>1</td>\n",
              "      <td>0</td>\n",
              "      <td>1</td>\n",
              "      <td>1</td>\n",
              "      <td>...</td>\n",
              "      <td>No Deposit</td>\n",
              "      <td>NaN</td>\n",
              "      <td>NaN</td>\n",
              "      <td>0</td>\n",
              "      <td>Transient</td>\n",
              "      <td>75.0</td>\n",
              "      <td>0</td>\n",
              "      <td>0</td>\n",
              "      <td>Check-Out</td>\n",
              "      <td>2015-07-02</td>\n",
              "    </tr>\n",
              "    <tr>\n",
              "      <th>3</th>\n",
              "      <td>Resort Hotel</td>\n",
              "      <td>0</td>\n",
              "      <td>13</td>\n",
              "      <td>2015</td>\n",
              "      <td>July</td>\n",
              "      <td>27</td>\n",
              "      <td>1</td>\n",
              "      <td>0</td>\n",
              "      <td>1</td>\n",
              "      <td>1</td>\n",
              "      <td>...</td>\n",
              "      <td>No Deposit</td>\n",
              "      <td>304.0</td>\n",
              "      <td>NaN</td>\n",
              "      <td>0</td>\n",
              "      <td>Transient</td>\n",
              "      <td>75.0</td>\n",
              "      <td>0</td>\n",
              "      <td>0</td>\n",
              "      <td>Check-Out</td>\n",
              "      <td>2015-07-02</td>\n",
              "    </tr>\n",
              "    <tr>\n",
              "      <th>4</th>\n",
              "      <td>Resort Hotel</td>\n",
              "      <td>0</td>\n",
              "      <td>14</td>\n",
              "      <td>2015</td>\n",
              "      <td>July</td>\n",
              "      <td>27</td>\n",
              "      <td>1</td>\n",
              "      <td>0</td>\n",
              "      <td>2</td>\n",
              "      <td>2</td>\n",
              "      <td>...</td>\n",
              "      <td>No Deposit</td>\n",
              "      <td>240.0</td>\n",
              "      <td>NaN</td>\n",
              "      <td>0</td>\n",
              "      <td>Transient</td>\n",
              "      <td>98.0</td>\n",
              "      <td>0</td>\n",
              "      <td>1</td>\n",
              "      <td>Check-Out</td>\n",
              "      <td>2015-07-03</td>\n",
              "    </tr>\n",
              "  </tbody>\n",
              "</table>\n",
              "<p>5 rows × 32 columns</p>\n",
              "</div>\n",
              "      <button class=\"colab-df-convert\" onclick=\"convertToInteractive('df-0ff54d6f-44c7-4407-8535-66f2466d9f62')\"\n",
              "              title=\"Convert this dataframe to an interactive table.\"\n",
              "              style=\"display:none;\">\n",
              "        \n",
              "  <svg xmlns=\"http://www.w3.org/2000/svg\" height=\"24px\"viewBox=\"0 0 24 24\"\n",
              "       width=\"24px\">\n",
              "    <path d=\"M0 0h24v24H0V0z\" fill=\"none\"/>\n",
              "    <path d=\"M18.56 5.44l.94 2.06.94-2.06 2.06-.94-2.06-.94-.94-2.06-.94 2.06-2.06.94zm-11 1L8.5 8.5l.94-2.06 2.06-.94-2.06-.94L8.5 2.5l-.94 2.06-2.06.94zm10 10l.94 2.06.94-2.06 2.06-.94-2.06-.94-.94-2.06-.94 2.06-2.06.94z\"/><path d=\"M17.41 7.96l-1.37-1.37c-.4-.4-.92-.59-1.43-.59-.52 0-1.04.2-1.43.59L10.3 9.45l-7.72 7.72c-.78.78-.78 2.05 0 2.83L4 21.41c.39.39.9.59 1.41.59.51 0 1.02-.2 1.41-.59l7.78-7.78 2.81-2.81c.8-.78.8-2.07 0-2.86zM5.41 20L4 18.59l7.72-7.72 1.47 1.35L5.41 20z\"/>\n",
              "  </svg>\n",
              "      </button>\n",
              "      \n",
              "  <style>\n",
              "    .colab-df-container {\n",
              "      display:flex;\n",
              "      flex-wrap:wrap;\n",
              "      gap: 12px;\n",
              "    }\n",
              "\n",
              "    .colab-df-convert {\n",
              "      background-color: #E8F0FE;\n",
              "      border: none;\n",
              "      border-radius: 50%;\n",
              "      cursor: pointer;\n",
              "      display: none;\n",
              "      fill: #1967D2;\n",
              "      height: 32px;\n",
              "      padding: 0 0 0 0;\n",
              "      width: 32px;\n",
              "    }\n",
              "\n",
              "    .colab-df-convert:hover {\n",
              "      background-color: #E2EBFA;\n",
              "      box-shadow: 0px 1px 2px rgba(60, 64, 67, 0.3), 0px 1px 3px 1px rgba(60, 64, 67, 0.15);\n",
              "      fill: #174EA6;\n",
              "    }\n",
              "\n",
              "    [theme=dark] .colab-df-convert {\n",
              "      background-color: #3B4455;\n",
              "      fill: #D2E3FC;\n",
              "    }\n",
              "\n",
              "    [theme=dark] .colab-df-convert:hover {\n",
              "      background-color: #434B5C;\n",
              "      box-shadow: 0px 1px 3px 1px rgba(0, 0, 0, 0.15);\n",
              "      filter: drop-shadow(0px 1px 2px rgba(0, 0, 0, 0.3));\n",
              "      fill: #FFFFFF;\n",
              "    }\n",
              "  </style>\n",
              "\n",
              "      <script>\n",
              "        const buttonEl =\n",
              "          document.querySelector('#df-0ff54d6f-44c7-4407-8535-66f2466d9f62 button.colab-df-convert');\n",
              "        buttonEl.style.display =\n",
              "          google.colab.kernel.accessAllowed ? 'block' : 'none';\n",
              "\n",
              "        async function convertToInteractive(key) {\n",
              "          const element = document.querySelector('#df-0ff54d6f-44c7-4407-8535-66f2466d9f62');\n",
              "          const dataTable =\n",
              "            await google.colab.kernel.invokeFunction('convertToInteractive',\n",
              "                                                     [key], {});\n",
              "          if (!dataTable) return;\n",
              "\n",
              "          const docLinkHtml = 'Like what you see? Visit the ' +\n",
              "            '<a target=\"_blank\" href=https://colab.research.google.com/notebooks/data_table.ipynb>data table notebook</a>'\n",
              "            + ' to learn more about interactive tables.';\n",
              "          element.innerHTML = '';\n",
              "          dataTable['output_type'] = 'display_data';\n",
              "          await google.colab.output.renderOutput(dataTable, element);\n",
              "          const docLink = document.createElement('div');\n",
              "          docLink.innerHTML = docLinkHtml;\n",
              "          element.appendChild(docLink);\n",
              "        }\n",
              "      </script>\n",
              "    </div>\n",
              "  </div>\n",
              "  "
            ]
          },
          "metadata": {},
          "execution_count": 6
        }
      ]
    },
    {
      "cell_type": "code",
      "source": [
        "list(df.columns)"
      ],
      "metadata": {
        "colab": {
          "base_uri": "https://localhost:8080/"
        },
        "id": "CwATITLeZKvJ",
        "outputId": "8335a782-2fcb-4130-a82f-07c8eede28c1"
      },
      "execution_count": null,
      "outputs": [
        {
          "output_type": "execute_result",
          "data": {
            "text/plain": [
              "['hotel',\n",
              " 'is_canceled',\n",
              " 'lead_time',\n",
              " 'arrival_date_year',\n",
              " 'arrival_date_month',\n",
              " 'arrival_date_week_number',\n",
              " 'arrival_date_day_of_month',\n",
              " 'stays_in_weekend_nights',\n",
              " 'stays_in_week_nights',\n",
              " 'adults',\n",
              " 'children',\n",
              " 'babies',\n",
              " 'meal',\n",
              " 'country',\n",
              " 'market_segment',\n",
              " 'distribution_channel',\n",
              " 'is_repeated_guest',\n",
              " 'previous_cancellations',\n",
              " 'previous_bookings_not_canceled',\n",
              " 'reserved_room_type',\n",
              " 'assigned_room_type',\n",
              " 'booking_changes',\n",
              " 'deposit_type',\n",
              " 'agent',\n",
              " 'company',\n",
              " 'days_in_waiting_list',\n",
              " 'customer_type',\n",
              " 'adr',\n",
              " 'required_car_parking_spaces',\n",
              " 'total_of_special_requests',\n",
              " 'reservation_status',\n",
              " 'reservation_status_date']"
            ]
          },
          "metadata": {},
          "execution_count": 7
        }
      ]
    },
    {
      "cell_type": "code",
      "source": [
        "df.describe()"
      ],
      "metadata": {
        "colab": {
          "base_uri": "https://localhost:8080/",
          "height": 364
        },
        "id": "0QuUfWxfZNB7",
        "outputId": "4d74b6af-6e70-4ecb-bd54-ccd4e44209b9"
      },
      "execution_count": null,
      "outputs": [
        {
          "output_type": "execute_result",
          "data": {
            "text/plain": [
              "         is_canceled      lead_time  arrival_date_year  \\\n",
              "count  119390.000000  119390.000000      119390.000000   \n",
              "mean        0.370416     104.011416        2016.156554   \n",
              "std         0.482918     106.863097           0.707476   \n",
              "min         0.000000       0.000000        2015.000000   \n",
              "25%         0.000000      18.000000        2016.000000   \n",
              "50%         0.000000      69.000000        2016.000000   \n",
              "75%         1.000000     160.000000        2017.000000   \n",
              "max         1.000000     737.000000        2017.000000   \n",
              "\n",
              "       arrival_date_week_number  arrival_date_day_of_month  \\\n",
              "count             119390.000000              119390.000000   \n",
              "mean                  27.165173                  15.798241   \n",
              "std                   13.605138                   8.780829   \n",
              "min                    1.000000                   1.000000   \n",
              "25%                   16.000000                   8.000000   \n",
              "50%                   28.000000                  16.000000   \n",
              "75%                   38.000000                  23.000000   \n",
              "max                   53.000000                  31.000000   \n",
              "\n",
              "       stays_in_weekend_nights  stays_in_week_nights         adults  \\\n",
              "count            119390.000000         119390.000000  119390.000000   \n",
              "mean                  0.927599              2.500302       1.856403   \n",
              "std                   0.998613              1.908286       0.579261   \n",
              "min                   0.000000              0.000000       0.000000   \n",
              "25%                   0.000000              1.000000       2.000000   \n",
              "50%                   1.000000              2.000000       2.000000   \n",
              "75%                   2.000000              3.000000       2.000000   \n",
              "max                  19.000000             50.000000      55.000000   \n",
              "\n",
              "            children         babies  is_repeated_guest  \\\n",
              "count  119386.000000  119390.000000      119390.000000   \n",
              "mean        0.103890       0.007949           0.031912   \n",
              "std         0.398561       0.097436           0.175767   \n",
              "min         0.000000       0.000000           0.000000   \n",
              "25%         0.000000       0.000000           0.000000   \n",
              "50%         0.000000       0.000000           0.000000   \n",
              "75%         0.000000       0.000000           0.000000   \n",
              "max        10.000000      10.000000           1.000000   \n",
              "\n",
              "       previous_cancellations  previous_bookings_not_canceled  \\\n",
              "count           119390.000000                   119390.000000   \n",
              "mean                 0.087118                        0.137097   \n",
              "std                  0.844336                        1.497437   \n",
              "min                  0.000000                        0.000000   \n",
              "25%                  0.000000                        0.000000   \n",
              "50%                  0.000000                        0.000000   \n",
              "75%                  0.000000                        0.000000   \n",
              "max                 26.000000                       72.000000   \n",
              "\n",
              "       booking_changes          agent      company  days_in_waiting_list  \\\n",
              "count    119390.000000  103050.000000  6797.000000         119390.000000   \n",
              "mean          0.221124      86.693382   189.266735              2.321149   \n",
              "std           0.652306     110.774548   131.655015             17.594721   \n",
              "min           0.000000       1.000000     6.000000              0.000000   \n",
              "25%           0.000000       9.000000    62.000000              0.000000   \n",
              "50%           0.000000      14.000000   179.000000              0.000000   \n",
              "75%           0.000000     229.000000   270.000000              0.000000   \n",
              "max          21.000000     535.000000   543.000000            391.000000   \n",
              "\n",
              "                 adr  required_car_parking_spaces  total_of_special_requests  \n",
              "count  119390.000000                119390.000000              119390.000000  \n",
              "mean      101.831122                     0.062518                   0.571363  \n",
              "std        50.535790                     0.245291                   0.792798  \n",
              "min        -6.380000                     0.000000                   0.000000  \n",
              "25%        69.290000                     0.000000                   0.000000  \n",
              "50%        94.575000                     0.000000                   0.000000  \n",
              "75%       126.000000                     0.000000                   1.000000  \n",
              "max      5400.000000                     8.000000                   5.000000  "
            ],
            "text/html": [
              "\n",
              "  <div id=\"df-53f2fed3-4b69-49c3-a9e1-56f9d5d8d694\">\n",
              "    <div class=\"colab-df-container\">\n",
              "      <div>\n",
              "<style scoped>\n",
              "    .dataframe tbody tr th:only-of-type {\n",
              "        vertical-align: middle;\n",
              "    }\n",
              "\n",
              "    .dataframe tbody tr th {\n",
              "        vertical-align: top;\n",
              "    }\n",
              "\n",
              "    .dataframe thead th {\n",
              "        text-align: right;\n",
              "    }\n",
              "</style>\n",
              "<table border=\"1\" class=\"dataframe\">\n",
              "  <thead>\n",
              "    <tr style=\"text-align: right;\">\n",
              "      <th></th>\n",
              "      <th>is_canceled</th>\n",
              "      <th>lead_time</th>\n",
              "      <th>arrival_date_year</th>\n",
              "      <th>arrival_date_week_number</th>\n",
              "      <th>arrival_date_day_of_month</th>\n",
              "      <th>stays_in_weekend_nights</th>\n",
              "      <th>stays_in_week_nights</th>\n",
              "      <th>adults</th>\n",
              "      <th>children</th>\n",
              "      <th>babies</th>\n",
              "      <th>is_repeated_guest</th>\n",
              "      <th>previous_cancellations</th>\n",
              "      <th>previous_bookings_not_canceled</th>\n",
              "      <th>booking_changes</th>\n",
              "      <th>agent</th>\n",
              "      <th>company</th>\n",
              "      <th>days_in_waiting_list</th>\n",
              "      <th>adr</th>\n",
              "      <th>required_car_parking_spaces</th>\n",
              "      <th>total_of_special_requests</th>\n",
              "    </tr>\n",
              "  </thead>\n",
              "  <tbody>\n",
              "    <tr>\n",
              "      <th>count</th>\n",
              "      <td>119390.000000</td>\n",
              "      <td>119390.000000</td>\n",
              "      <td>119390.000000</td>\n",
              "      <td>119390.000000</td>\n",
              "      <td>119390.000000</td>\n",
              "      <td>119390.000000</td>\n",
              "      <td>119390.000000</td>\n",
              "      <td>119390.000000</td>\n",
              "      <td>119386.000000</td>\n",
              "      <td>119390.000000</td>\n",
              "      <td>119390.000000</td>\n",
              "      <td>119390.000000</td>\n",
              "      <td>119390.000000</td>\n",
              "      <td>119390.000000</td>\n",
              "      <td>103050.000000</td>\n",
              "      <td>6797.000000</td>\n",
              "      <td>119390.000000</td>\n",
              "      <td>119390.000000</td>\n",
              "      <td>119390.000000</td>\n",
              "      <td>119390.000000</td>\n",
              "    </tr>\n",
              "    <tr>\n",
              "      <th>mean</th>\n",
              "      <td>0.370416</td>\n",
              "      <td>104.011416</td>\n",
              "      <td>2016.156554</td>\n",
              "      <td>27.165173</td>\n",
              "      <td>15.798241</td>\n",
              "      <td>0.927599</td>\n",
              "      <td>2.500302</td>\n",
              "      <td>1.856403</td>\n",
              "      <td>0.103890</td>\n",
              "      <td>0.007949</td>\n",
              "      <td>0.031912</td>\n",
              "      <td>0.087118</td>\n",
              "      <td>0.137097</td>\n",
              "      <td>0.221124</td>\n",
              "      <td>86.693382</td>\n",
              "      <td>189.266735</td>\n",
              "      <td>2.321149</td>\n",
              "      <td>101.831122</td>\n",
              "      <td>0.062518</td>\n",
              "      <td>0.571363</td>\n",
              "    </tr>\n",
              "    <tr>\n",
              "      <th>std</th>\n",
              "      <td>0.482918</td>\n",
              "      <td>106.863097</td>\n",
              "      <td>0.707476</td>\n",
              "      <td>13.605138</td>\n",
              "      <td>8.780829</td>\n",
              "      <td>0.998613</td>\n",
              "      <td>1.908286</td>\n",
              "      <td>0.579261</td>\n",
              "      <td>0.398561</td>\n",
              "      <td>0.097436</td>\n",
              "      <td>0.175767</td>\n",
              "      <td>0.844336</td>\n",
              "      <td>1.497437</td>\n",
              "      <td>0.652306</td>\n",
              "      <td>110.774548</td>\n",
              "      <td>131.655015</td>\n",
              "      <td>17.594721</td>\n",
              "      <td>50.535790</td>\n",
              "      <td>0.245291</td>\n",
              "      <td>0.792798</td>\n",
              "    </tr>\n",
              "    <tr>\n",
              "      <th>min</th>\n",
              "      <td>0.000000</td>\n",
              "      <td>0.000000</td>\n",
              "      <td>2015.000000</td>\n",
              "      <td>1.000000</td>\n",
              "      <td>1.000000</td>\n",
              "      <td>0.000000</td>\n",
              "      <td>0.000000</td>\n",
              "      <td>0.000000</td>\n",
              "      <td>0.000000</td>\n",
              "      <td>0.000000</td>\n",
              "      <td>0.000000</td>\n",
              "      <td>0.000000</td>\n",
              "      <td>0.000000</td>\n",
              "      <td>0.000000</td>\n",
              "      <td>1.000000</td>\n",
              "      <td>6.000000</td>\n",
              "      <td>0.000000</td>\n",
              "      <td>-6.380000</td>\n",
              "      <td>0.000000</td>\n",
              "      <td>0.000000</td>\n",
              "    </tr>\n",
              "    <tr>\n",
              "      <th>25%</th>\n",
              "      <td>0.000000</td>\n",
              "      <td>18.000000</td>\n",
              "      <td>2016.000000</td>\n",
              "      <td>16.000000</td>\n",
              "      <td>8.000000</td>\n",
              "      <td>0.000000</td>\n",
              "      <td>1.000000</td>\n",
              "      <td>2.000000</td>\n",
              "      <td>0.000000</td>\n",
              "      <td>0.000000</td>\n",
              "      <td>0.000000</td>\n",
              "      <td>0.000000</td>\n",
              "      <td>0.000000</td>\n",
              "      <td>0.000000</td>\n",
              "      <td>9.000000</td>\n",
              "      <td>62.000000</td>\n",
              "      <td>0.000000</td>\n",
              "      <td>69.290000</td>\n",
              "      <td>0.000000</td>\n",
              "      <td>0.000000</td>\n",
              "    </tr>\n",
              "    <tr>\n",
              "      <th>50%</th>\n",
              "      <td>0.000000</td>\n",
              "      <td>69.000000</td>\n",
              "      <td>2016.000000</td>\n",
              "      <td>28.000000</td>\n",
              "      <td>16.000000</td>\n",
              "      <td>1.000000</td>\n",
              "      <td>2.000000</td>\n",
              "      <td>2.000000</td>\n",
              "      <td>0.000000</td>\n",
              "      <td>0.000000</td>\n",
              "      <td>0.000000</td>\n",
              "      <td>0.000000</td>\n",
              "      <td>0.000000</td>\n",
              "      <td>0.000000</td>\n",
              "      <td>14.000000</td>\n",
              "      <td>179.000000</td>\n",
              "      <td>0.000000</td>\n",
              "      <td>94.575000</td>\n",
              "      <td>0.000000</td>\n",
              "      <td>0.000000</td>\n",
              "    </tr>\n",
              "    <tr>\n",
              "      <th>75%</th>\n",
              "      <td>1.000000</td>\n",
              "      <td>160.000000</td>\n",
              "      <td>2017.000000</td>\n",
              "      <td>38.000000</td>\n",
              "      <td>23.000000</td>\n",
              "      <td>2.000000</td>\n",
              "      <td>3.000000</td>\n",
              "      <td>2.000000</td>\n",
              "      <td>0.000000</td>\n",
              "      <td>0.000000</td>\n",
              "      <td>0.000000</td>\n",
              "      <td>0.000000</td>\n",
              "      <td>0.000000</td>\n",
              "      <td>0.000000</td>\n",
              "      <td>229.000000</td>\n",
              "      <td>270.000000</td>\n",
              "      <td>0.000000</td>\n",
              "      <td>126.000000</td>\n",
              "      <td>0.000000</td>\n",
              "      <td>1.000000</td>\n",
              "    </tr>\n",
              "    <tr>\n",
              "      <th>max</th>\n",
              "      <td>1.000000</td>\n",
              "      <td>737.000000</td>\n",
              "      <td>2017.000000</td>\n",
              "      <td>53.000000</td>\n",
              "      <td>31.000000</td>\n",
              "      <td>19.000000</td>\n",
              "      <td>50.000000</td>\n",
              "      <td>55.000000</td>\n",
              "      <td>10.000000</td>\n",
              "      <td>10.000000</td>\n",
              "      <td>1.000000</td>\n",
              "      <td>26.000000</td>\n",
              "      <td>72.000000</td>\n",
              "      <td>21.000000</td>\n",
              "      <td>535.000000</td>\n",
              "      <td>543.000000</td>\n",
              "      <td>391.000000</td>\n",
              "      <td>5400.000000</td>\n",
              "      <td>8.000000</td>\n",
              "      <td>5.000000</td>\n",
              "    </tr>\n",
              "  </tbody>\n",
              "</table>\n",
              "</div>\n",
              "      <button class=\"colab-df-convert\" onclick=\"convertToInteractive('df-53f2fed3-4b69-49c3-a9e1-56f9d5d8d694')\"\n",
              "              title=\"Convert this dataframe to an interactive table.\"\n",
              "              style=\"display:none;\">\n",
              "        \n",
              "  <svg xmlns=\"http://www.w3.org/2000/svg\" height=\"24px\"viewBox=\"0 0 24 24\"\n",
              "       width=\"24px\">\n",
              "    <path d=\"M0 0h24v24H0V0z\" fill=\"none\"/>\n",
              "    <path d=\"M18.56 5.44l.94 2.06.94-2.06 2.06-.94-2.06-.94-.94-2.06-.94 2.06-2.06.94zm-11 1L8.5 8.5l.94-2.06 2.06-.94-2.06-.94L8.5 2.5l-.94 2.06-2.06.94zm10 10l.94 2.06.94-2.06 2.06-.94-2.06-.94-.94-2.06-.94 2.06-2.06.94z\"/><path d=\"M17.41 7.96l-1.37-1.37c-.4-.4-.92-.59-1.43-.59-.52 0-1.04.2-1.43.59L10.3 9.45l-7.72 7.72c-.78.78-.78 2.05 0 2.83L4 21.41c.39.39.9.59 1.41.59.51 0 1.02-.2 1.41-.59l7.78-7.78 2.81-2.81c.8-.78.8-2.07 0-2.86zM5.41 20L4 18.59l7.72-7.72 1.47 1.35L5.41 20z\"/>\n",
              "  </svg>\n",
              "      </button>\n",
              "      \n",
              "  <style>\n",
              "    .colab-df-container {\n",
              "      display:flex;\n",
              "      flex-wrap:wrap;\n",
              "      gap: 12px;\n",
              "    }\n",
              "\n",
              "    .colab-df-convert {\n",
              "      background-color: #E8F0FE;\n",
              "      border: none;\n",
              "      border-radius: 50%;\n",
              "      cursor: pointer;\n",
              "      display: none;\n",
              "      fill: #1967D2;\n",
              "      height: 32px;\n",
              "      padding: 0 0 0 0;\n",
              "      width: 32px;\n",
              "    }\n",
              "\n",
              "    .colab-df-convert:hover {\n",
              "      background-color: #E2EBFA;\n",
              "      box-shadow: 0px 1px 2px rgba(60, 64, 67, 0.3), 0px 1px 3px 1px rgba(60, 64, 67, 0.15);\n",
              "      fill: #174EA6;\n",
              "    }\n",
              "\n",
              "    [theme=dark] .colab-df-convert {\n",
              "      background-color: #3B4455;\n",
              "      fill: #D2E3FC;\n",
              "    }\n",
              "\n",
              "    [theme=dark] .colab-df-convert:hover {\n",
              "      background-color: #434B5C;\n",
              "      box-shadow: 0px 1px 3px 1px rgba(0, 0, 0, 0.15);\n",
              "      filter: drop-shadow(0px 1px 2px rgba(0, 0, 0, 0.3));\n",
              "      fill: #FFFFFF;\n",
              "    }\n",
              "  </style>\n",
              "\n",
              "      <script>\n",
              "        const buttonEl =\n",
              "          document.querySelector('#df-53f2fed3-4b69-49c3-a9e1-56f9d5d8d694 button.colab-df-convert');\n",
              "        buttonEl.style.display =\n",
              "          google.colab.kernel.accessAllowed ? 'block' : 'none';\n",
              "\n",
              "        async function convertToInteractive(key) {\n",
              "          const element = document.querySelector('#df-53f2fed3-4b69-49c3-a9e1-56f9d5d8d694');\n",
              "          const dataTable =\n",
              "            await google.colab.kernel.invokeFunction('convertToInteractive',\n",
              "                                                     [key], {});\n",
              "          if (!dataTable) return;\n",
              "\n",
              "          const docLinkHtml = 'Like what you see? Visit the ' +\n",
              "            '<a target=\"_blank\" href=https://colab.research.google.com/notebooks/data_table.ipynb>data table notebook</a>'\n",
              "            + ' to learn more about interactive tables.';\n",
              "          element.innerHTML = '';\n",
              "          dataTable['output_type'] = 'display_data';\n",
              "          await google.colab.output.renderOutput(dataTable, element);\n",
              "          const docLink = document.createElement('div');\n",
              "          docLink.innerHTML = docLinkHtml;\n",
              "          element.appendChild(docLink);\n",
              "        }\n",
              "      </script>\n",
              "    </div>\n",
              "  </div>\n",
              "  "
            ]
          },
          "metadata": {},
          "execution_count": 8
        }
      ]
    },
    {
      "cell_type": "markdown",
      "source": [
        "## **Variables and their meaning in the dataframe.**\n",
        "\n",
        "**hotel**\n",
        "* Provided Hotel type \n",
        "* Resort or City hotel\n",
        "\n",
        "**is_canceled**\n",
        "* Value provided information about cancellation by customer.\n",
        "* If canceled = 1\n",
        "* If not canceled = 0\n",
        "\n",
        "**lead_time**\n",
        "* The Booking Lead Time is the *number of days* between the time a guest books their room and the time they are scheduled to arrive at the hotel.\n",
        "\n",
        "\n",
        "**arrival_date_year**\n",
        "* Year of arrival of the Customer.\n",
        "\n",
        "**arrival_date_week_number**\n",
        "* week number of arrival of the Customer.\n",
        "\n",
        "**arrival_date_day_of_month**\n",
        "* Month of arrival of the Customer.\n",
        "\n",
        "**stays_in_weekend_nights**\n",
        "* Number of weekend nights (Saturday night or Sunday night) the guest stayed or booked to stay at the hotel.\n",
        "\n",
        "**stays_in_week_nights**\n",
        "* Number of week nights (Monday to Friday) the guest stayed or booked to stay at the hotel.\n",
        "\n",
        "**adults**\n",
        "* Number of adults stayed or booked to stay at the hotel\n",
        "\n",
        "**children**\n",
        "* Number of children stayed or booked to stay at the hotel\n",
        "\n",
        "**babies**\n",
        "* Number of babies stayed or booked to stay at the hotel\n",
        "\n",
        "**meal**\n",
        "* Type of meals Booked.\n",
        "   - BB: Bed & Breakfast\n",
        "\n",
        "  - HB: Half Board (Breakfast and Dinner normally)\n",
        "\n",
        "  - FB: Full Board (Beakfast, Lunch or Dinner)\n",
        "\n",
        "  - Undefined/SC: Rooms only packages without meals.\n",
        "\n",
        "**countries**\n",
        "* Country of origin of the customer.\n",
        "* Country name provided based on ISO 3166 country codes.\n",
        "\n",
        "**market_segment**\n",
        "* Market segment distinction\n",
        "* Provides source of information through which customer booked\n",
        "* Term \"TA\" - \"Travel Agent\"\n",
        "* Term \"TO\" - \"Tour operators\" \n",
        "* Both \"TA\" and \"TO\" considers as same kind of market segment.\n",
        "\n",
        "**distribution_channel**\n",
        "* also called \"marketing channel\"\n",
        "* Is the Network through which customer booked.\n",
        "\n",
        "**is_repeated_guest**\n",
        "* Value provided information about whether the customer is new or old.\n",
        "* If new to the hotel = 1\n",
        "* If not new to the hotel = 0\n",
        "\n",
        "**previous_cancellations**\n",
        "* Number of bookings previously canceled by the customer, Before current booking.\n",
        "\n",
        "**previous_bookings_not_canceled**\n",
        "* Number of bookings previously not canceled by the customer, Before current booking.\n",
        "\n",
        "**reserved_room_type** \n",
        "* Type of room reserved stored in alphabat codes.\n",
        "\n",
        "**assigned_room_type**\n",
        "* Type of room reserved stored in alphabat codes.\n",
        "\n",
        "**booking_changes**\n",
        "* Number of changes made to the booking until check-in or completely canceled.\n",
        "\n",
        "**deposit_type**\n",
        "* The purpose of the advance deposit is to guarantee a reservation\n",
        "* There are 3 types of deposit,\n",
        " * 'No Deposit' - No deposit need by the hotel on booking\n",
        " * 'Refundable' - Deposit that can be refunded while vacating the room, Which included in total Room-stay cost.\n",
        " * 'Non Refundable' - Amount paid that can't be refunded once paid  Which included in total Room-stay cost.\n",
        "\n",
        "**agent**\n",
        " * Unique ID code of the Travel agent through which booking made.\n",
        "\n",
        "**company**\n",
        "* Unique ID code of the company or entity who made booking and responsible for payment.\n",
        "\n",
        "**days_in_waiting_list**\n",
        "* Number of days the booking was in the waiting list before it was confirmed to the customer.\n",
        "\n",
        "**customer_type**\n",
        "  * 'Transient' - Simply individual guests requiring a short stay at the hotel\n",
        "  * 'Contract' - Agreement between hotel authority and customer to requiring volume room bookings on contract basis.\n",
        "  * 'Transient-Party' - Booking is Transient and associated with other transient booking\n",
        "  * 'Group' - Multiple rooms are booked under single customer responsibility\n",
        "\n",
        "**adr**\n",
        "  * The Average Daily Rate (ADR) is the price to be paid by customer for staying per day/night in the room.\n",
        "\n",
        "**required_car_parking_spaces**\n",
        "* Number of vehicle space requested by customer while booking.\n",
        "\n",
        "**total_of_special_requests**\n",
        "* Total number of special request made by customer while booking.\n",
        "\n",
        "**reservation_status**\n",
        "* Reservation status when data created.\n",
        "* It stored in three types:\n",
        "  * 'Check-Out' - Customer already vacated from the room booked.\n",
        "  * 'Canceled' - Booking was canceled by the customer.\n",
        "  * 'No-Show' -  Room was booked, yet customer neither 'Checked-in' nor 'Canceled'\n",
        "\n",
        "**reservation_status_date**\n",
        "* Date on which reservation_status checked\n",
        "  \n",
        "\n",
        "\n",
        "\n",
        "\n"
      ],
      "metadata": {
        "id": "XDnuOrFbZVd5"
      }
    },
    {
      "cell_type": "markdown",
      "source": [
        "#**Data Cleaning**  - Cleaning / Filling Missing Data.\n",
        "###**Checking for null values in each columns:**\n"
      ],
      "metadata": {
        "id": "-NmyY2MuZY9Z"
      }
    },
    {
      "cell_type": "code",
      "source": [
        "# Finding the total number of null values in the each variables or column.\n",
        "\n",
        "df.isnull().sum()\n",
        "A = df.isnull().sum()\n",
        "print(A)\n"
      ],
      "metadata": {
        "colab": {
          "base_uri": "https://localhost:8080/"
        },
        "id": "fCxr5iI5ZRsT",
        "outputId": "cd3db4d2-7e00-4bcb-a65e-6036147df749"
      },
      "execution_count": null,
      "outputs": [
        {
          "output_type": "stream",
          "name": "stdout",
          "text": [
            "hotel                                  0\n",
            "is_canceled                            0\n",
            "lead_time                              0\n",
            "arrival_date_year                      0\n",
            "arrival_date_month                     0\n",
            "arrival_date_week_number               0\n",
            "arrival_date_day_of_month              0\n",
            "stays_in_weekend_nights                0\n",
            "stays_in_week_nights                   0\n",
            "adults                                 0\n",
            "children                               4\n",
            "babies                                 0\n",
            "meal                                   0\n",
            "country                              488\n",
            "market_segment                         0\n",
            "distribution_channel                   0\n",
            "is_repeated_guest                      0\n",
            "previous_cancellations                 0\n",
            "previous_bookings_not_canceled         0\n",
            "reserved_room_type                     0\n",
            "assigned_room_type                     0\n",
            "booking_changes                        0\n",
            "deposit_type                           0\n",
            "agent                              16340\n",
            "company                           112593\n",
            "days_in_waiting_list                   0\n",
            "customer_type                          0\n",
            "adr                                    0\n",
            "required_car_parking_spaces            0\n",
            "total_of_special_requests              0\n",
            "reservation_status                     0\n",
            "reservation_status_date                0\n",
            "dtype: int64\n"
          ]
        }
      ]
    },
    {
      "cell_type": "code",
      "source": [
        "# Finding the percentage of Null values in each variables.\n",
        "\n",
        "B = df.isnull().sum()/len(df.index)* 100\n",
        "print(B)\n"
      ],
      "metadata": {
        "colab": {
          "base_uri": "https://localhost:8080/"
        },
        "id": "m1vjt6JCZfZQ",
        "outputId": "8db4fe80-4410-46e3-92f4-607a13c3cf2e"
      },
      "execution_count": null,
      "outputs": [
        {
          "output_type": "stream",
          "name": "stdout",
          "text": [
            "hotel                              0.000000\n",
            "is_canceled                        0.000000\n",
            "lead_time                          0.000000\n",
            "arrival_date_year                  0.000000\n",
            "arrival_date_month                 0.000000\n",
            "arrival_date_week_number           0.000000\n",
            "arrival_date_day_of_month          0.000000\n",
            "stays_in_weekend_nights            0.000000\n",
            "stays_in_week_nights               0.000000\n",
            "adults                             0.000000\n",
            "children                           0.003350\n",
            "babies                             0.000000\n",
            "meal                               0.000000\n",
            "country                            0.408744\n",
            "market_segment                     0.000000\n",
            "distribution_channel               0.000000\n",
            "is_repeated_guest                  0.000000\n",
            "previous_cancellations             0.000000\n",
            "previous_bookings_not_canceled     0.000000\n",
            "reserved_room_type                 0.000000\n",
            "assigned_room_type                 0.000000\n",
            "booking_changes                    0.000000\n",
            "deposit_type                       0.000000\n",
            "agent                             13.686238\n",
            "company                           94.306893\n",
            "days_in_waiting_list               0.000000\n",
            "customer_type                      0.000000\n",
            "adr                                0.000000\n",
            "required_car_parking_spaces        0.000000\n",
            "total_of_special_requests          0.000000\n",
            "reservation_status                 0.000000\n",
            "reservation_status_date            0.000000\n",
            "dtype: float64\n"
          ]
        }
      ]
    },
    {
      "cell_type": "code",
      "source": [
        "# Concat both series we found.\n",
        "\n",
        "df_nulldata = pd.concat([A,B] , axis = 1, keys = [\"null_values\",\"percentage of null values\"])\n",
        "df_nulldata\n"
      ],
      "metadata": {
        "colab": {
          "base_uri": "https://localhost:8080/",
          "height": 1000
        },
        "id": "EomDLHf_Zjqj",
        "outputId": "cd93956c-1d6c-4dbf-b620-2dcc812cd9e3"
      },
      "execution_count": null,
      "outputs": [
        {
          "output_type": "execute_result",
          "data": {
            "text/plain": [
              "                                null_values  percentage of null values\n",
              "hotel                                     0                   0.000000\n",
              "is_canceled                               0                   0.000000\n",
              "lead_time                                 0                   0.000000\n",
              "arrival_date_year                         0                   0.000000\n",
              "arrival_date_month                        0                   0.000000\n",
              "arrival_date_week_number                  0                   0.000000\n",
              "arrival_date_day_of_month                 0                   0.000000\n",
              "stays_in_weekend_nights                   0                   0.000000\n",
              "stays_in_week_nights                      0                   0.000000\n",
              "adults                                    0                   0.000000\n",
              "children                                  4                   0.003350\n",
              "babies                                    0                   0.000000\n",
              "meal                                      0                   0.000000\n",
              "country                                 488                   0.408744\n",
              "market_segment                            0                   0.000000\n",
              "distribution_channel                      0                   0.000000\n",
              "is_repeated_guest                         0                   0.000000\n",
              "previous_cancellations                    0                   0.000000\n",
              "previous_bookings_not_canceled            0                   0.000000\n",
              "reserved_room_type                        0                   0.000000\n",
              "assigned_room_type                        0                   0.000000\n",
              "booking_changes                           0                   0.000000\n",
              "deposit_type                              0                   0.000000\n",
              "agent                                 16340                  13.686238\n",
              "company                              112593                  94.306893\n",
              "days_in_waiting_list                      0                   0.000000\n",
              "customer_type                             0                   0.000000\n",
              "adr                                       0                   0.000000\n",
              "required_car_parking_spaces               0                   0.000000\n",
              "total_of_special_requests                 0                   0.000000\n",
              "reservation_status                        0                   0.000000\n",
              "reservation_status_date                   0                   0.000000"
            ],
            "text/html": [
              "\n",
              "  <div id=\"df-7b4d9ef8-60fc-4e82-bd3d-4ef8885d4982\">\n",
              "    <div class=\"colab-df-container\">\n",
              "      <div>\n",
              "<style scoped>\n",
              "    .dataframe tbody tr th:only-of-type {\n",
              "        vertical-align: middle;\n",
              "    }\n",
              "\n",
              "    .dataframe tbody tr th {\n",
              "        vertical-align: top;\n",
              "    }\n",
              "\n",
              "    .dataframe thead th {\n",
              "        text-align: right;\n",
              "    }\n",
              "</style>\n",
              "<table border=\"1\" class=\"dataframe\">\n",
              "  <thead>\n",
              "    <tr style=\"text-align: right;\">\n",
              "      <th></th>\n",
              "      <th>null_values</th>\n",
              "      <th>percentage of null values</th>\n",
              "    </tr>\n",
              "  </thead>\n",
              "  <tbody>\n",
              "    <tr>\n",
              "      <th>hotel</th>\n",
              "      <td>0</td>\n",
              "      <td>0.000000</td>\n",
              "    </tr>\n",
              "    <tr>\n",
              "      <th>is_canceled</th>\n",
              "      <td>0</td>\n",
              "      <td>0.000000</td>\n",
              "    </tr>\n",
              "    <tr>\n",
              "      <th>lead_time</th>\n",
              "      <td>0</td>\n",
              "      <td>0.000000</td>\n",
              "    </tr>\n",
              "    <tr>\n",
              "      <th>arrival_date_year</th>\n",
              "      <td>0</td>\n",
              "      <td>0.000000</td>\n",
              "    </tr>\n",
              "    <tr>\n",
              "      <th>arrival_date_month</th>\n",
              "      <td>0</td>\n",
              "      <td>0.000000</td>\n",
              "    </tr>\n",
              "    <tr>\n",
              "      <th>arrival_date_week_number</th>\n",
              "      <td>0</td>\n",
              "      <td>0.000000</td>\n",
              "    </tr>\n",
              "    <tr>\n",
              "      <th>arrival_date_day_of_month</th>\n",
              "      <td>0</td>\n",
              "      <td>0.000000</td>\n",
              "    </tr>\n",
              "    <tr>\n",
              "      <th>stays_in_weekend_nights</th>\n",
              "      <td>0</td>\n",
              "      <td>0.000000</td>\n",
              "    </tr>\n",
              "    <tr>\n",
              "      <th>stays_in_week_nights</th>\n",
              "      <td>0</td>\n",
              "      <td>0.000000</td>\n",
              "    </tr>\n",
              "    <tr>\n",
              "      <th>adults</th>\n",
              "      <td>0</td>\n",
              "      <td>0.000000</td>\n",
              "    </tr>\n",
              "    <tr>\n",
              "      <th>children</th>\n",
              "      <td>4</td>\n",
              "      <td>0.003350</td>\n",
              "    </tr>\n",
              "    <tr>\n",
              "      <th>babies</th>\n",
              "      <td>0</td>\n",
              "      <td>0.000000</td>\n",
              "    </tr>\n",
              "    <tr>\n",
              "      <th>meal</th>\n",
              "      <td>0</td>\n",
              "      <td>0.000000</td>\n",
              "    </tr>\n",
              "    <tr>\n",
              "      <th>country</th>\n",
              "      <td>488</td>\n",
              "      <td>0.408744</td>\n",
              "    </tr>\n",
              "    <tr>\n",
              "      <th>market_segment</th>\n",
              "      <td>0</td>\n",
              "      <td>0.000000</td>\n",
              "    </tr>\n",
              "    <tr>\n",
              "      <th>distribution_channel</th>\n",
              "      <td>0</td>\n",
              "      <td>0.000000</td>\n",
              "    </tr>\n",
              "    <tr>\n",
              "      <th>is_repeated_guest</th>\n",
              "      <td>0</td>\n",
              "      <td>0.000000</td>\n",
              "    </tr>\n",
              "    <tr>\n",
              "      <th>previous_cancellations</th>\n",
              "      <td>0</td>\n",
              "      <td>0.000000</td>\n",
              "    </tr>\n",
              "    <tr>\n",
              "      <th>previous_bookings_not_canceled</th>\n",
              "      <td>0</td>\n",
              "      <td>0.000000</td>\n",
              "    </tr>\n",
              "    <tr>\n",
              "      <th>reserved_room_type</th>\n",
              "      <td>0</td>\n",
              "      <td>0.000000</td>\n",
              "    </tr>\n",
              "    <tr>\n",
              "      <th>assigned_room_type</th>\n",
              "      <td>0</td>\n",
              "      <td>0.000000</td>\n",
              "    </tr>\n",
              "    <tr>\n",
              "      <th>booking_changes</th>\n",
              "      <td>0</td>\n",
              "      <td>0.000000</td>\n",
              "    </tr>\n",
              "    <tr>\n",
              "      <th>deposit_type</th>\n",
              "      <td>0</td>\n",
              "      <td>0.000000</td>\n",
              "    </tr>\n",
              "    <tr>\n",
              "      <th>agent</th>\n",
              "      <td>16340</td>\n",
              "      <td>13.686238</td>\n",
              "    </tr>\n",
              "    <tr>\n",
              "      <th>company</th>\n",
              "      <td>112593</td>\n",
              "      <td>94.306893</td>\n",
              "    </tr>\n",
              "    <tr>\n",
              "      <th>days_in_waiting_list</th>\n",
              "      <td>0</td>\n",
              "      <td>0.000000</td>\n",
              "    </tr>\n",
              "    <tr>\n",
              "      <th>customer_type</th>\n",
              "      <td>0</td>\n",
              "      <td>0.000000</td>\n",
              "    </tr>\n",
              "    <tr>\n",
              "      <th>adr</th>\n",
              "      <td>0</td>\n",
              "      <td>0.000000</td>\n",
              "    </tr>\n",
              "    <tr>\n",
              "      <th>required_car_parking_spaces</th>\n",
              "      <td>0</td>\n",
              "      <td>0.000000</td>\n",
              "    </tr>\n",
              "    <tr>\n",
              "      <th>total_of_special_requests</th>\n",
              "      <td>0</td>\n",
              "      <td>0.000000</td>\n",
              "    </tr>\n",
              "    <tr>\n",
              "      <th>reservation_status</th>\n",
              "      <td>0</td>\n",
              "      <td>0.000000</td>\n",
              "    </tr>\n",
              "    <tr>\n",
              "      <th>reservation_status_date</th>\n",
              "      <td>0</td>\n",
              "      <td>0.000000</td>\n",
              "    </tr>\n",
              "  </tbody>\n",
              "</table>\n",
              "</div>\n",
              "      <button class=\"colab-df-convert\" onclick=\"convertToInteractive('df-7b4d9ef8-60fc-4e82-bd3d-4ef8885d4982')\"\n",
              "              title=\"Convert this dataframe to an interactive table.\"\n",
              "              style=\"display:none;\">\n",
              "        \n",
              "  <svg xmlns=\"http://www.w3.org/2000/svg\" height=\"24px\"viewBox=\"0 0 24 24\"\n",
              "       width=\"24px\">\n",
              "    <path d=\"M0 0h24v24H0V0z\" fill=\"none\"/>\n",
              "    <path d=\"M18.56 5.44l.94 2.06.94-2.06 2.06-.94-2.06-.94-.94-2.06-.94 2.06-2.06.94zm-11 1L8.5 8.5l.94-2.06 2.06-.94-2.06-.94L8.5 2.5l-.94 2.06-2.06.94zm10 10l.94 2.06.94-2.06 2.06-.94-2.06-.94-.94-2.06-.94 2.06-2.06.94z\"/><path d=\"M17.41 7.96l-1.37-1.37c-.4-.4-.92-.59-1.43-.59-.52 0-1.04.2-1.43.59L10.3 9.45l-7.72 7.72c-.78.78-.78 2.05 0 2.83L4 21.41c.39.39.9.59 1.41.59.51 0 1.02-.2 1.41-.59l7.78-7.78 2.81-2.81c.8-.78.8-2.07 0-2.86zM5.41 20L4 18.59l7.72-7.72 1.47 1.35L5.41 20z\"/>\n",
              "  </svg>\n",
              "      </button>\n",
              "      \n",
              "  <style>\n",
              "    .colab-df-container {\n",
              "      display:flex;\n",
              "      flex-wrap:wrap;\n",
              "      gap: 12px;\n",
              "    }\n",
              "\n",
              "    .colab-df-convert {\n",
              "      background-color: #E8F0FE;\n",
              "      border: none;\n",
              "      border-radius: 50%;\n",
              "      cursor: pointer;\n",
              "      display: none;\n",
              "      fill: #1967D2;\n",
              "      height: 32px;\n",
              "      padding: 0 0 0 0;\n",
              "      width: 32px;\n",
              "    }\n",
              "\n",
              "    .colab-df-convert:hover {\n",
              "      background-color: #E2EBFA;\n",
              "      box-shadow: 0px 1px 2px rgba(60, 64, 67, 0.3), 0px 1px 3px 1px rgba(60, 64, 67, 0.15);\n",
              "      fill: #174EA6;\n",
              "    }\n",
              "\n",
              "    [theme=dark] .colab-df-convert {\n",
              "      background-color: #3B4455;\n",
              "      fill: #D2E3FC;\n",
              "    }\n",
              "\n",
              "    [theme=dark] .colab-df-convert:hover {\n",
              "      background-color: #434B5C;\n",
              "      box-shadow: 0px 1px 3px 1px rgba(0, 0, 0, 0.15);\n",
              "      filter: drop-shadow(0px 1px 2px rgba(0, 0, 0, 0.3));\n",
              "      fill: #FFFFFF;\n",
              "    }\n",
              "  </style>\n",
              "\n",
              "      <script>\n",
              "        const buttonEl =\n",
              "          document.querySelector('#df-7b4d9ef8-60fc-4e82-bd3d-4ef8885d4982 button.colab-df-convert');\n",
              "        buttonEl.style.display =\n",
              "          google.colab.kernel.accessAllowed ? 'block' : 'none';\n",
              "\n",
              "        async function convertToInteractive(key) {\n",
              "          const element = document.querySelector('#df-7b4d9ef8-60fc-4e82-bd3d-4ef8885d4982');\n",
              "          const dataTable =\n",
              "            await google.colab.kernel.invokeFunction('convertToInteractive',\n",
              "                                                     [key], {});\n",
              "          if (!dataTable) return;\n",
              "\n",
              "          const docLinkHtml = 'Like what you see? Visit the ' +\n",
              "            '<a target=\"_blank\" href=https://colab.research.google.com/notebooks/data_table.ipynb>data table notebook</a>'\n",
              "            + ' to learn more about interactive tables.';\n",
              "          element.innerHTML = '';\n",
              "          dataTable['output_type'] = 'display_data';\n",
              "          await google.colab.output.renderOutput(dataTable, element);\n",
              "          const docLink = document.createElement('div');\n",
              "          docLink.innerHTML = docLinkHtml;\n",
              "          element.appendChild(docLink);\n",
              "        }\n",
              "      </script>\n",
              "    </div>\n",
              "  </div>\n",
              "  "
            ]
          },
          "metadata": {},
          "execution_count": 11
        }
      ]
    },
    {
      "cell_type": "markdown",
      "source": [
        "##**Dropping columns with high null values**\n",
        "\n",
        "* From the above observation, we found the percentage's of null values highest in \"agent\" and \"company\" columns.\n",
        "* Now, Dropping those columns with the highest number of null value as part of data cleaning\n"
      ],
      "metadata": {
        "id": "msCIlIIxZpmV"
      }
    },
    {
      "cell_type": "code",
      "source": [
        "# Before droping it was 32 columns in df.\n",
        "df.shape"
      ],
      "metadata": {
        "colab": {
          "base_uri": "https://localhost:8080/"
        },
        "id": "9DUpsLqiZm9r",
        "outputId": "c963f158-aa1f-49cf-b50f-9cb3e045327e"
      },
      "execution_count": null,
      "outputs": [
        {
          "output_type": "execute_result",
          "data": {
            "text/plain": [
              "(119390, 32)"
            ]
          },
          "metadata": {},
          "execution_count": 12
        }
      ]
    },
    {
      "cell_type": "code",
      "source": [
        "# Dropping \n",
        "\n",
        "df.drop([\"agent\",\"company\"], axis =1 , inplace = True)"
      ],
      "metadata": {
        "id": "DwYz0l4MZtJB"
      },
      "execution_count": null,
      "outputs": []
    },
    {
      "cell_type": "code",
      "source": [
        "# After droping it is 30 columns in df.\n",
        "df.shape"
      ],
      "metadata": {
        "colab": {
          "base_uri": "https://localhost:8080/"
        },
        "id": "FQtX5RTUZvd6",
        "outputId": "f519aa66-038e-40a7-a1b6-1a3048387318"
      },
      "execution_count": null,
      "outputs": [
        {
          "output_type": "execute_result",
          "data": {
            "text/plain": [
              "(119390, 30)"
            ]
          },
          "metadata": {},
          "execution_count": 14
        }
      ]
    },
    {
      "cell_type": "code",
      "source": [
        "# To virtually find the further null values that exist in the dataframe.\n",
        "\n",
        "sns.heatmap(df.isnull(),yticklabels=False,cbar=False,cmap='plasma')\n",
        "plt.figure(figsize = (10,5))"
      ],
      "metadata": {
        "colab": {
          "base_uri": "https://localhost:8080/",
          "height": 454
        },
        "id": "et9b_nREZyKR",
        "outputId": "363213dd-143f-4902-adb1-d0b54e8fdc95"
      },
      "execution_count": null,
      "outputs": [
        {
          "output_type": "execute_result",
          "data": {
            "text/plain": [
              "<Figure size 720x360 with 0 Axes>"
            ]
          },
          "metadata": {},
          "execution_count": 15
        },
        {
          "output_type": "display_data",
          "data": {
            "text/plain": [
              "<Figure size 432x288 with 1 Axes>"
            ],
            "image/png": "[encoded data removed]"
          },
          "metadata": {
            "needs_background": "light"
          }
        },
        {
          "output_type": "display_data",
          "data": {
            "text/plain": [
              "<Figure size 720x360 with 0 Axes>"
            ]
          },
          "metadata": {}
        }
      ]
    },
    {
      "cell_type": "markdown",
      "source": [
        "* Still variables \"children\" and \"country\" has some mininum number of the null values\n",
        "* Hence, filling those null values with appropriate values.\n",
        "* That is,\n",
        " * Filling the null values in the children column as \"0\" \n",
        " * Filling the null values in the country with country name which has maximum count in the data."
      ],
      "metadata": {
        "id": "AY7cpwhTZ4zD"
      }
    },
    {
      "cell_type": "code",
      "source": [
        "# For children\n",
        "\n",
        "df[\"children\"].isnull().value_counts()"
      ],
      "metadata": {
        "colab": {
          "base_uri": "https://localhost:8080/"
        },
        "id": "WNjnQLsmZ0xu",
        "outputId": "29966e32-8d61-4c9b-c575-014e2948aaa5"
      },
      "execution_count": null,
      "outputs": [
        {
          "output_type": "execute_result",
          "data": {
            "text/plain": [
              "False    119386\n",
              "True          4\n",
              "Name: children, dtype: int64"
            ]
          },
          "metadata": {},
          "execution_count": 16
        }
      ]
    },
    {
      "cell_type": "code",
      "source": [
        "# Filling those 4 cell with \"0\"\n",
        "\n",
        "df[\"children\"] = df[\"children\"].fillna(0)\n"
      ],
      "metadata": {
        "id": "1UGvro2zZ7q2"
      },
      "execution_count": null,
      "outputs": []
    },
    {
      "cell_type": "code",
      "source": [
        "#checking \n",
        "\n",
        "df[\"children\"].isnull().value_counts()"
      ],
      "metadata": {
        "colab": {
          "base_uri": "https://localhost:8080/"
        },
        "id": "5Wul8fa1Z-dO",
        "outputId": "f060e45f-73c5-44c0-d86e-4e57c34b4c0f"
      },
      "execution_count": null,
      "outputs": [
        {
          "output_type": "execute_result",
          "data": {
            "text/plain": [
              "False    119390\n",
              "Name: children, dtype: int64"
            ]
          },
          "metadata": {},
          "execution_count": 18
        }
      ]
    },
    {
      "cell_type": "code",
      "source": [
        "# For country\n",
        "\n",
        "df[\"country\"].isnull().value_counts()"
      ],
      "metadata": {
        "colab": {
          "base_uri": "https://localhost:8080/"
        },
        "id": "XbfDteaBaAe8",
        "outputId": "d6daffc0-d3bc-4ee9-a3f5-3dc658aded21"
      },
      "execution_count": null,
      "outputs": [
        {
          "output_type": "execute_result",
          "data": {
            "text/plain": [
              "False    118902\n",
              "True        488\n",
              "Name: country, dtype: int64"
            ]
          },
          "metadata": {},
          "execution_count": 19
        }
      ]
    },
    {
      "cell_type": "code",
      "source": [
        "# finding the country from which most number of customer booked.\n",
        "# so that filling the null value of country column with that country code.\n",
        "df[\"country\"].mode()"
      ],
      "metadata": {
        "colab": {
          "base_uri": "https://localhost:8080/"
        },
        "id": "NDhJELCuaCxo",
        "outputId": "bba487ce-95c4-4829-c3dd-ab8c0d9996ea"
      },
      "execution_count": null,
      "outputs": [
        {
          "output_type": "execute_result",
          "data": {
            "text/plain": [
              "0    PRT\n",
              "dtype: object"
            ]
          },
          "metadata": {},
          "execution_count": 20
        }
      ]
    },
    {
      "cell_type": "code",
      "source": [
        "# Filling null values in the country with \"PRT\"\n",
        "\n",
        "df[\"country\"].fillna(\"PRT\", inplace = True)"
      ],
      "metadata": {
        "id": "xi28ytO3aF9n"
      },
      "execution_count": null,
      "outputs": []
    },
    {
      "cell_type": "code",
      "source": [
        "#Checking\n",
        "\n",
        "df[\"country\"].isnull().value_counts()"
      ],
      "metadata": {
        "colab": {
          "base_uri": "https://localhost:8080/"
        },
        "id": "MkFZJK3AaItk",
        "outputId": "add2aabe-230a-41e0-da07-fc825a9faeca"
      },
      "execution_count": null,
      "outputs": [
        {
          "output_type": "execute_result",
          "data": {
            "text/plain": [
              "False    119390\n",
              "Name: country, dtype: int64"
            ]
          },
          "metadata": {},
          "execution_count": 22
        }
      ]
    },
    {
      "cell_type": "markdown",
      "source": [
        "#### Now, all the columns are filled with non-null values.\n",
        "\n",
        "#### Let us now deal with the dtype of each variable, if need convert it to appropriate one."
      ],
      "metadata": {
        "id": "M9dX-bEMaOjm"
      }
    },
    {
      "cell_type": "code",
      "source": [
        "# Date values in the \"reservation_status_date\" is in object\n",
        "# hence converting it to datetime format\n",
        "df[\"reservation_status_date\"]"
      ],
      "metadata": {
        "colab": {
          "base_uri": "https://localhost:8080/"
        },
        "id": "--8fQpGHaLH0",
        "outputId": "1a99ba05-9e06-42d3-8d91-7fa7818d0f96"
      },
      "execution_count": null,
      "outputs": [
        {
          "output_type": "execute_result",
          "data": {
            "text/plain": [
              "0         2015-07-01\n",
              "1         2015-07-01\n",
              "2         2015-07-02\n",
              "3         2015-07-02\n",
              "4         2015-07-03\n",
              "             ...    \n",
              "119385    2017-09-06\n",
              "119386    2017-09-07\n",
              "119387    2017-09-07\n",
              "119388    2017-09-07\n",
              "119389    2017-09-07\n",
              "Name: reservation_status_date, Length: 119390, dtype: object"
            ]
          },
          "metadata": {},
          "execution_count": 23
        }
      ]
    },
    {
      "cell_type": "markdown",
      "source": [
        "## Converting object into datetype in \"reservation_status_date\"         "
      ],
      "metadata": {
        "id": "LqX32XQzakUw"
      }
    },
    {
      "cell_type": "code",
      "source": [
        "df[\"new_reservation_status_date\"] = df[\"reservation_status_date\"].apply(lambda x : datetime.strptime(x, \"%Y-%m-%d\"))\n",
        "df[\"new_reservation_status_date\"]"
      ],
      "metadata": {
        "colab": {
          "base_uri": "https://localhost:8080/"
        },
        "id": "v8of-4J6afZ3",
        "outputId": "7c84b1e7-1e5f-4d87-8638-4f2d1f493825"
      },
      "execution_count": null,
      "outputs": [
        {
          "output_type": "execute_result",
          "data": {
            "text/plain": [
              "0        2015-07-01\n",
              "1        2015-07-01\n",
              "2        2015-07-02\n",
              "3        2015-07-02\n",
              "4        2015-07-03\n",
              "            ...    \n",
              "119385   2017-09-06\n",
              "119386   2017-09-07\n",
              "119387   2017-09-07\n",
              "119388   2017-09-07\n",
              "119389   2017-09-07\n",
              "Name: new_reservation_status_date, Length: 119390, dtype: datetime64[ns]"
            ]
          },
          "metadata": {},
          "execution_count": 24
        }
      ]
    },
    {
      "cell_type": "markdown",
      "source": [
        "## Converting the dtype of column \"babies\" into int"
      ],
      "metadata": {
        "id": "cUVIOxlcatR2"
      }
    },
    {
      "cell_type": "code",
      "source": [
        "df[\"babies\"].astype(int)"
      ],
      "metadata": {
        "colab": {
          "base_uri": "https://localhost:8080/"
        },
        "id": "ZpjxTRbYaoq-",
        "outputId": "d37acd25-85a2-44a5-c5c4-1f0cfa90a3f2"
      },
      "execution_count": null,
      "outputs": [
        {
          "output_type": "execute_result",
          "data": {
            "text/plain": [
              "0         0\n",
              "1         0\n",
              "2         0\n",
              "3         0\n",
              "4         0\n",
              "         ..\n",
              "119385    0\n",
              "119386    0\n",
              "119387    0\n",
              "119388    0\n",
              "119389    0\n",
              "Name: babies, Length: 119390, dtype: int64"
            ]
          },
          "metadata": {},
          "execution_count": 25
        }
      ]
    },
    {
      "cell_type": "markdown",
      "source": [
        "### Creating the New set of dataframe in which no rows have value \"0\" in number of adults, children, babies."
      ],
      "metadata": {
        "id": "m1f9mD2Jaze9"
      }
    },
    {
      "cell_type": "code",
      "source": [
        "df = df[~((df[\"adults\"]) == 0 & (df[\"children\"] ==0) & (df[\"babies\"] == 0))]\n",
        "df"
      ],
      "metadata": {
        "colab": {
          "base_uri": "https://localhost:8080/",
          "height": 661
        },
        "id": "T88UGrJxavyO",
        "outputId": "dcd43cd0-47df-404d-bae6-50c891dadc9e"
      },
      "execution_count": null,
      "outputs": [
        {
          "output_type": "execute_result",
          "data": {
            "text/plain": [
              "               hotel  is_canceled  lead_time  arrival_date_year  \\\n",
              "0       Resort Hotel            0        342               2015   \n",
              "1       Resort Hotel            0        737               2015   \n",
              "2       Resort Hotel            0          7               2015   \n",
              "3       Resort Hotel            0         13               2015   \n",
              "4       Resort Hotel            0         14               2015   \n",
              "...              ...          ...        ...                ...   \n",
              "119385    City Hotel            0         23               2017   \n",
              "119386    City Hotel            0        102               2017   \n",
              "119387    City Hotel            0         34               2017   \n",
              "119388    City Hotel            0        109               2017   \n",
              "119389    City Hotel            0        205               2017   \n",
              "\n",
              "       arrival_date_month  arrival_date_week_number  \\\n",
              "0                    July                        27   \n",
              "1                    July                        27   \n",
              "2                    July                        27   \n",
              "3                    July                        27   \n",
              "4                    July                        27   \n",
              "...                   ...                       ...   \n",
              "119385             August                        35   \n",
              "119386             August                        35   \n",
              "119387             August                        35   \n",
              "119388             August                        35   \n",
              "119389             August                        35   \n",
              "\n",
              "        arrival_date_day_of_month  stays_in_weekend_nights  \\\n",
              "0                               1                        0   \n",
              "1                               1                        0   \n",
              "2                               1                        0   \n",
              "3                               1                        0   \n",
              "4                               1                        0   \n",
              "...                           ...                      ...   \n",
              "119385                         30                        2   \n",
              "119386                         31                        2   \n",
              "119387                         31                        2   \n",
              "119388                         31                        2   \n",
              "119389                         29                        2   \n",
              "\n",
              "        stays_in_week_nights  adults  ...  booking_changes  deposit_type  \\\n",
              "0                          0       2  ...                3    No Deposit   \n",
              "1                          0       2  ...                4    No Deposit   \n",
              "2                          1       1  ...                0    No Deposit   \n",
              "3                          1       1  ...                0    No Deposit   \n",
              "4                          2       2  ...                0    No Deposit   \n",
              "...                      ...     ...  ...              ...           ...   \n",
              "119385                     5       2  ...                0    No Deposit   \n",
              "119386                     5       3  ...                0    No Deposit   \n",
              "119387                     5       2  ...                0    No Deposit   \n",
              "119388                     5       2  ...                0    No Deposit   \n",
              "119389                     7       2  ...                0    No Deposit   \n",
              "\n",
              "       days_in_waiting_list customer_type     adr required_car_parking_spaces  \\\n",
              "0                         0     Transient    0.00                           0   \n",
              "1                         0     Transient    0.00                           0   \n",
              "2                         0     Transient   75.00                           0   \n",
              "3                         0     Transient   75.00                           0   \n",
              "4                         0     Transient   98.00                           0   \n",
              "...                     ...           ...     ...                         ...   \n",
              "119385                    0     Transient   96.14                           0   \n",
              "119386                    0     Transient  225.43                           0   \n",
              "119387                    0     Transient  157.71                           0   \n",
              "119388                    0     Transient  104.40                           0   \n",
              "119389                    0     Transient  151.20                           0   \n",
              "\n",
              "        total_of_special_requests  reservation_status  \\\n",
              "0                               0           Check-Out   \n",
              "1                               0           Check-Out   \n",
              "2                               0           Check-Out   \n",
              "3                               0           Check-Out   \n",
              "4                               1           Check-Out   \n",
              "...                           ...                 ...   \n",
              "119385                          0           Check-Out   \n",
              "119386                          2           Check-Out   \n",
              "119387                          4           Check-Out   \n",
              "119388                          0           Check-Out   \n",
              "119389                          2           Check-Out   \n",
              "\n",
              "        reservation_status_date new_reservation_status_date  \n",
              "0                    2015-07-01                  2015-07-01  \n",
              "1                    2015-07-01                  2015-07-01  \n",
              "2                    2015-07-02                  2015-07-02  \n",
              "3                    2015-07-02                  2015-07-02  \n",
              "4                    2015-07-03                  2015-07-03  \n",
              "...                         ...                         ...  \n",
              "119385               2017-09-06                  2017-09-06  \n",
              "119386               2017-09-07                  2017-09-07  \n",
              "119387               2017-09-07                  2017-09-07  \n",
              "119388               2017-09-07                  2017-09-07  \n",
              "119389               2017-09-07                  2017-09-07  \n",
              "\n",
              "[118987 rows x 31 columns]"
            ],
            "text/html": [
              "\n",
              "  <div id=\"df-06a377a4-e056-4c1b-a467-0911a2739fe1\">\n",
              "    <div class=\"colab-df-container\">\n",
              "      <div>\n",
              "<style scoped>\n",
              "    .dataframe tbody tr th:only-of-type {\n",
              "        vertical-align: middle;\n",
              "    }\n",
              "\n",
              "    .dataframe tbody tr th {\n",
              "        vertical-align: top;\n",
              "    }\n",
              "\n",
              "    .dataframe thead th {\n",
              "        text-align: right;\n",
              "    }\n",
              "</style>\n",
              "<table border=\"1\" class=\"dataframe\">\n",
              "  <thead>\n",
              "    <tr style=\"text-align: right;\">\n",
              "      <th></th>\n",
              "      <th>hotel</th>\n",
              "      <th>is_canceled</th>\n",
              "      <th>lead_time</th>\n",
              "      <th>arrival_date_year</th>\n",
              "      <th>arrival_date_month</th>\n",
              "      <th>arrival_date_week_number</th>\n",
              "      <th>arrival_date_day_of_month</th>\n",
              "      <th>stays_in_weekend_nights</th>\n",
              "      <th>stays_in_week_nights</th>\n",
              "      <th>adults</th>\n",
              "      <th>...</th>\n",
              "      <th>booking_changes</th>\n",
              "      <th>deposit_type</th>\n",
              "      <th>days_in_waiting_list</th>\n",
              "      <th>customer_type</th>\n",
              "      <th>adr</th>\n",
              "      <th>required_car_parking_spaces</th>\n",
              "      <th>total_of_special_requests</th>\n",
              "      <th>reservation_status</th>\n",
              "      <th>reservation_status_date</th>\n",
              "      <th>new_reservation_status_date</th>\n",
              "    </tr>\n",
              "  </thead>\n",
              "  <tbody>\n",
              "    <tr>\n",
              "      <th>0</th>\n",
              "      <td>Resort Hotel</td>\n",
              "      <td>0</td>\n",
              "      <td>342</td>\n",
              "      <td>2015</td>\n",
              "      <td>July</td>\n",
              "      <td>27</td>\n",
              "      <td>1</td>\n",
              "      <td>0</td>\n",
              "      <td>0</td>\n",
              "      <td>2</td>\n",
              "      <td>...</td>\n",
              "      <td>3</td>\n",
              "      <td>No Deposit</td>\n",
              "      <td>0</td>\n",
              "      <td>Transient</td>\n",
              "      <td>0.00</td>\n",
              "      <td>0</td>\n",
              "      <td>0</td>\n",
              "      <td>Check-Out</td>\n",
              "      <td>2015-07-01</td>\n",
              "      <td>2015-07-01</td>\n",
              "    </tr>\n",
              "    <tr>\n",
              "      <th>1</th>\n",
              "      <td>Resort Hotel</td>\n",
              "      <td>0</td>\n",
              "      <td>737</td>\n",
              "      <td>2015</td>\n",
              "      <td>July</td>\n",
              "      <td>27</td>\n",
              "      <td>1</td>\n",
              "      <td>0</td>\n",
              "      <td>0</td>\n",
              "      <td>2</td>\n",
              "      <td>...</td>\n",
              "      <td>4</td>\n",
              "      <td>No Deposit</td>\n",
              "      <td>0</td>\n",
              "      <td>Transient</td>\n",
              "      <td>0.00</td>\n",
              "      <td>0</td>\n",
              "      <td>0</td>\n",
              "      <td>Check-Out</td>\n",
              "      <td>2015-07-01</td>\n",
              "      <td>2015-07-01</td>\n",
              "    </tr>\n",
              "    <tr>\n",
              "      <th>2</th>\n",
              "      <td>Resort Hotel</td>\n",
              "      <td>0</td>\n",
              "      <td>7</td>\n",
              "      <td>2015</td>\n",
              "      <td>July</td>\n",
              "      <td>27</td>\n",
              "      <td>1</td>\n",
              "      <td>0</td>\n",
              "      <td>1</td>\n",
              "      <td>1</td>\n",
              "      <td>...</td>\n",
              "      <td>0</td>\n",
              "      <td>No Deposit</td>\n",
              "      <td>0</td>\n",
              "      <td>Transient</td>\n",
              "      <td>75.00</td>\n",
              "      <td>0</td>\n",
              "      <td>0</td>\n",
              "      <td>Check-Out</td>\n",
              "      <td>2015-07-02</td>\n",
              "      <td>2015-07-02</td>\n",
              "    </tr>\n",
              "    <tr>\n",
              "      <th>3</th>\n",
              "      <td>Resort Hotel</td>\n",
              "      <td>0</td>\n",
              "      <td>13</td>\n",
              "      <td>2015</td>\n",
              "      <td>July</td>\n",
              "      <td>27</td>\n",
              "      <td>1</td>\n",
              "      <td>0</td>\n",
              "      <td>1</td>\n",
              "      <td>1</td>\n",
              "      <td>...</td>\n",
              "      <td>0</td>\n",
              "      <td>No Deposit</td>\n",
              "      <td>0</td>\n",
              "      <td>Transient</td>\n",
              "      <td>75.00</td>\n",
              "      <td>0</td>\n",
              "      <td>0</td>\n",
              "      <td>Check-Out</td>\n",
              "      <td>2015-07-02</td>\n",
              "      <td>2015-07-02</td>\n",
              "    </tr>\n",
              "    <tr>\n",
              "      <th>4</th>\n",
              "      <td>Resort Hotel</td>\n",
              "      <td>0</td>\n",
              "      <td>14</td>\n",
              "      <td>2015</td>\n",
              "      <td>July</td>\n",
              "      <td>27</td>\n",
              "      <td>1</td>\n",
              "      <td>0</td>\n",
              "      <td>2</td>\n",
              "      <td>2</td>\n",
              "      <td>...</td>\n",
              "      <td>0</td>\n",
              "      <td>No Deposit</td>\n",
              "      <td>0</td>\n",
              "      <td>Transient</td>\n",
              "      <td>98.00</td>\n",
              "      <td>0</td>\n",
              "      <td>1</td>\n",
              "      <td>Check-Out</td>\n",
              "      <td>2015-07-03</td>\n",
              "      <td>2015-07-03</td>\n",
              "    </tr>\n",
              "    <tr>\n",
              "      <th>...</th>\n",
              "      <td>...</td>\n",
              "      <td>...</td>\n",
              "      <td>...</td>\n",
              "      <td>...</td>\n",
              "      <td>...</td>\n",
              "      <td>...</td>\n",
              "      <td>...</td>\n",
              "      <td>...</td>\n",
              "      <td>...</td>\n",
              "      <td>...</td>\n",
              "      <td>...</td>\n",
              "      <td>...</td>\n",
              "      <td>...</td>\n",
              "      <td>...</td>\n",
              "      <td>...</td>\n",
              "      <td>...</td>\n",
              "      <td>...</td>\n",
              "      <td>...</td>\n",
              "      <td>...</td>\n",
              "      <td>...</td>\n",
              "      <td>...</td>\n",
              "    </tr>\n",
              "    <tr>\n",
              "      <th>119385</th>\n",
              "      <td>City Hotel</td>\n",
              "      <td>0</td>\n",
              "      <td>23</td>\n",
              "      <td>2017</td>\n",
              "      <td>August</td>\n",
              "      <td>35</td>\n",
              "      <td>30</td>\n",
              "      <td>2</td>\n",
              "      <td>5</td>\n",
              "      <td>2</td>\n",
              "      <td>...</td>\n",
              "      <td>0</td>\n",
              "      <td>No Deposit</td>\n",
              "      <td>0</td>\n",
              "      <td>Transient</td>\n",
              "      <td>96.14</td>\n",
              "      <td>0</td>\n",
              "      <td>0</td>\n",
              "      <td>Check-Out</td>\n",
              "      <td>2017-09-06</td>\n",
              "      <td>2017-09-06</td>\n",
              "    </tr>\n",
              "    <tr>\n",
              "      <th>119386</th>\n",
              "      <td>City Hotel</td>\n",
              "      <td>0</td>\n",
              "      <td>102</td>\n",
              "      <td>2017</td>\n",
              "      <td>August</td>\n",
              "      <td>35</td>\n",
              "      <td>31</td>\n",
              "      <td>2</td>\n",
              "      <td>5</td>\n",
              "      <td>3</td>\n",
              "      <td>...</td>\n",
              "      <td>0</td>\n",
              "      <td>No Deposit</td>\n",
              "      <td>0</td>\n",
              "      <td>Transient</td>\n",
              "      <td>225.43</td>\n",
              "      <td>0</td>\n",
              "      <td>2</td>\n",
              "      <td>Check-Out</td>\n",
              "      <td>2017-09-07</td>\n",
              "      <td>2017-09-07</td>\n",
              "    </tr>\n",
              "    <tr>\n",
              "      <th>119387</th>\n",
              "      <td>City Hotel</td>\n",
              "      <td>0</td>\n",
              "      <td>34</td>\n",
              "      <td>2017</td>\n",
              "      <td>August</td>\n",
              "      <td>35</td>\n",
              "      <td>31</td>\n",
              "      <td>2</td>\n",
              "      <td>5</td>\n",
              "      <td>2</td>\n",
              "      <td>...</td>\n",
              "      <td>0</td>\n",
              "      <td>No Deposit</td>\n",
              "      <td>0</td>\n",
              "      <td>Transient</td>\n",
              "      <td>157.71</td>\n",
              "      <td>0</td>\n",
              "      <td>4</td>\n",
              "      <td>Check-Out</td>\n",
              "      <td>2017-09-07</td>\n",
              "      <td>2017-09-07</td>\n",
              "    </tr>\n",
              "    <tr>\n",
              "      <th>119388</th>\n",
              "      <td>City Hotel</td>\n",
              "      <td>0</td>\n",
              "      <td>109</td>\n",
              "      <td>2017</td>\n",
              "      <td>August</td>\n",
              "      <td>35</td>\n",
              "      <td>31</td>\n",
              "      <td>2</td>\n",
              "      <td>5</td>\n",
              "      <td>2</td>\n",
              "      <td>...</td>\n",
              "      <td>0</td>\n",
              "      <td>No Deposit</td>\n",
              "      <td>0</td>\n",
              "      <td>Transient</td>\n",
              "      <td>104.40</td>\n",
              "      <td>0</td>\n",
              "      <td>0</td>\n",
              "      <td>Check-Out</td>\n",
              "      <td>2017-09-07</td>\n",
              "      <td>2017-09-07</td>\n",
              "    </tr>\n",
              "    <tr>\n",
              "      <th>119389</th>\n",
              "      <td>City Hotel</td>\n",
              "      <td>0</td>\n",
              "      <td>205</td>\n",
              "      <td>2017</td>\n",
              "      <td>August</td>\n",
              "      <td>35</td>\n",
              "      <td>29</td>\n",
              "      <td>2</td>\n",
              "      <td>7</td>\n",
              "      <td>2</td>\n",
              "      <td>...</td>\n",
              "      <td>0</td>\n",
              "      <td>No Deposit</td>\n",
              "      <td>0</td>\n",
              "      <td>Transient</td>\n",
              "      <td>151.20</td>\n",
              "      <td>0</td>\n",
              "      <td>2</td>\n",
              "      <td>Check-Out</td>\n",
              "      <td>2017-09-07</td>\n",
              "      <td>2017-09-07</td>\n",
              "    </tr>\n",
              "  </tbody>\n",
              "</table>\n",
              "<p>118987 rows × 31 columns</p>\n",
              "</div>\n",
              "      <button class=\"colab-df-convert\" onclick=\"convertToInteractive('df-06a377a4-e056-4c1b-a467-0911a2739fe1')\"\n",
              "              title=\"Convert this dataframe to an interactive table.\"\n",
              "              style=\"display:none;\">\n",
              "        \n",
              "  <svg xmlns=\"http://www.w3.org/2000/svg\" height=\"24px\"viewBox=\"0 0 24 24\"\n",
              "       width=\"24px\">\n",
              "    <path d=\"M0 0h24v24H0V0z\" fill=\"none\"/>\n",
              "    <path d=\"M18.56 5.44l.94 2.06.94-2.06 2.06-.94-2.06-.94-.94-2.06-.94 2.06-2.06.94zm-11 1L8.5 8.5l.94-2.06 2.06-.94-2.06-.94L8.5 2.5l-.94 2.06-2.06.94zm10 10l.94 2.06.94-2.06 2.06-.94-2.06-.94-.94-2.06-.94 2.06-2.06.94z\"/><path d=\"M17.41 7.96l-1.37-1.37c-.4-.4-.92-.59-1.43-.59-.52 0-1.04.2-1.43.59L10.3 9.45l-7.72 7.72c-.78.78-.78 2.05 0 2.83L4 21.41c.39.39.9.59 1.41.59.51 0 1.02-.2 1.41-.59l7.78-7.78 2.81-2.81c.8-.78.8-2.07 0-2.86zM5.41 20L4 18.59l7.72-7.72 1.47 1.35L5.41 20z\"/>\n",
              "  </svg>\n",
              "      </button>\n",
              "      \n",
              "  <style>\n",
              "    .colab-df-container {\n",
              "      display:flex;\n",
              "      flex-wrap:wrap;\n",
              "      gap: 12px;\n",
              "    }\n",
              "\n",
              "    .colab-df-convert {\n",
              "      background-color: #E8F0FE;\n",
              "      border: none;\n",
              "      border-radius: 50%;\n",
              "      cursor: pointer;\n",
              "      display: none;\n",
              "      fill: #1967D2;\n",
              "      height: 32px;\n",
              "      padding: 0 0 0 0;\n",
              "      width: 32px;\n",
              "    }\n",
              "\n",
              "    .colab-df-convert:hover {\n",
              "      background-color: #E2EBFA;\n",
              "      box-shadow: 0px 1px 2px rgba(60, 64, 67, 0.3), 0px 1px 3px 1px rgba(60, 64, 67, 0.15);\n",
              "      fill: #174EA6;\n",
              "    }\n",
              "\n",
              "    [theme=dark] .colab-df-convert {\n",
              "      background-color: #3B4455;\n",
              "      fill: #D2E3FC;\n",
              "    }\n",
              "\n",
              "    [theme=dark] .colab-df-convert:hover {\n",
              "      background-color: #434B5C;\n",
              "      box-shadow: 0px 1px 3px 1px rgba(0, 0, 0, 0.15);\n",
              "      filter: drop-shadow(0px 1px 2px rgba(0, 0, 0, 0.3));\n",
              "      fill: #FFFFFF;\n",
              "    }\n",
              "  </style>\n",
              "\n",
              "      <script>\n",
              "        const buttonEl =\n",
              "          document.querySelector('#df-06a377a4-e056-4c1b-a467-0911a2739fe1 button.colab-df-convert');\n",
              "        buttonEl.style.display =\n",
              "          google.colab.kernel.accessAllowed ? 'block' : 'none';\n",
              "\n",
              "        async function convertToInteractive(key) {\n",
              "          const element = document.querySelector('#df-06a377a4-e056-4c1b-a467-0911a2739fe1');\n",
              "          const dataTable =\n",
              "            await google.colab.kernel.invokeFunction('convertToInteractive',\n",
              "                                                     [key], {});\n",
              "          if (!dataTable) return;\n",
              "\n",
              "          const docLinkHtml = 'Like what you see? Visit the ' +\n",
              "            '<a target=\"_blank\" href=https://colab.research.google.com/notebooks/data_table.ipynb>data table notebook</a>'\n",
              "            + ' to learn more about interactive tables.';\n",
              "          element.innerHTML = '';\n",
              "          dataTable['output_type'] = 'display_data';\n",
              "          await google.colab.output.renderOutput(dataTable, element);\n",
              "          const docLink = document.createElement('div');\n",
              "          docLink.innerHTML = docLinkHtml;\n",
              "          element.appendChild(docLink);\n",
              "        }\n",
              "      </script>\n",
              "    </div>\n",
              "  </div>\n",
              "  "
            ]
          },
          "metadata": {},
          "execution_count": 26
        }
      ]
    },
    {
      "cell_type": "markdown",
      "source": [
        "## Finding the Outliers of each variable.\n",
        "#### This helps to clean the data futher by observing the upper and lower limit."
      ],
      "metadata": {
        "id": "69ABzjGTbXrf"
      }
    },
    {
      "cell_type": "code",
      "source": [
        "# Virtualization of the each variables\n",
        "# Using for loop to iterate on each.\n",
        "n=1\n",
        "plt.figure(figsize=(12,15))\n",
        "for i in range(31):\n",
        "  if df.iloc[:,i].dtype == int or df.iloc[:,i].dtype== float:\n",
        "    plt.subplot(6,3,n)\n",
        "    n+=1\n",
        "    sns.boxplot(df.iloc[:,i])\n",
        "    plt.tight_layout();"
      ],
      "metadata": {
        "colab": {
          "base_uri": "https://localhost:8080/",
          "height": 1000
        },
        "id": "f5stOyXoa2Hd",
        "outputId": "eeeedb37-5cdb-4ded-d940-b1175816f0ab"
      },
      "execution_count": null,
      "outputs": [
        {
          "output_type": "display_data",
          "data": {
            "text/plain": [
              "<Figure size 864x1080 with 18 Axes>"
            ],
            "image/png": "[encoded data removed]"
          },
          "metadata": {
            "needs_background": "light"
          }
        }
      ]
    },
    {
      "cell_type": "markdown",
      "source": [
        "* The above distribution provides the information about the outliers\n",
        "* hence, upper and lower Quartile limit can be fixed \n",
        "* Dataframe can be further cleaned for analysis. "
      ],
      "metadata": {
        "id": "H_uoc2stbiT2"
      }
    },
    {
      "cell_type": "markdown",
      "source": [
        "## With the help of above outliers, cleaning the data based on Quartile value."
      ],
      "metadata": {
        "id": "AKykFYlpbqHj"
      }
    },
    {
      "cell_type": "code",
      "source": [
        "df = df.loc[df['lead_time'] < df['lead_time'].quantile(0.99)]\n",
        "df = df.loc[df['stays_in_weekend_nights'] < df['stays_in_weekend_nights'].quantile(0.99)]\n",
        "df = df.loc[df['stays_in_week_nights'] < df['stays_in_week_nights'].quantile(0.99)]\n",
        "df = df.loc[df['adults'] < 5]\n",
        "df = df.loc[df['children'] < 3]\n",
        "df = df.loc[df['babies'] < 3]\n",
        "df = df.loc[df['required_car_parking_spaces'] < 4]\n",
        "df = df.loc[df['adr'] < 700]"
      ],
      "metadata": {
        "id": "4u2EVu0Wbby8"
      },
      "execution_count": null,
      "outputs": []
    },
    {
      "cell_type": "code",
      "source": [
        "df.shape"
      ],
      "metadata": {
        "colab": {
          "base_uri": "https://localhost:8080/"
        },
        "id": "w9M9NQTFbsj3",
        "outputId": "258e5220-6733-4846-f2d4-96adb8d472fc"
      },
      "execution_count": null,
      "outputs": [
        {
          "output_type": "execute_result",
          "data": {
            "text/plain": [
              "(113920, 31)"
            ]
          },
          "metadata": {},
          "execution_count": 29
        }
      ]
    },
    {
      "cell_type": "markdown",
      "source": [
        "##**Data validation and Publishing**"
      ],
      "metadata": {
        "id": "pD42UZh0k6BO"
      }
    },
    {
      "cell_type": "markdown",
      "source": [
        "### **Univariable study:**"
      ],
      "metadata": {
        "id": "wQKF1dStk9z5"
      }
    },
    {
      "cell_type": "markdown",
      "source": [
        "##1. Number of Bookings in each Hotel type"
      ],
      "metadata": {
        "id": "tmynkZ9slh7M"
      }
    },
    {
      "cell_type": "code",
      "source": [
        "hotel = df[\"hotel\"].value_counts()\n",
        "hotel.plot(kind = \"bar\")\n",
        "\n",
        "plt.title('Numbers of hotels in each type')\n",
        "plt.ylabel('Total hotels')\n",
        "plt.xlabel('Types of Hotel')\n",
        "\n",
        "plt.rcParams['figure.figsize'] = (10, 5)"
      ],
      "metadata": {
        "colab": {
          "base_uri": "https://localhost:8080/",
          "height": 347
        },
        "id": "FxTTXRh_k3p6",
        "outputId": "cd65aa57-47dc-4224-e97b-ba3c7728fdea"
      },
      "execution_count": null,
      "outputs": [
        {
          "output_type": "display_data",
          "data": {
            "text/plain": [
              "<Figure size 432x288 with 1 Axes>"
            ],
            "image/png": "[encoded data removed]"
          },
          "metadata": {
            "needs_background": "light"
          }
        }
      ]
    },
    {
      "cell_type": "markdown",
      "source": [
        "Observation:\n",
        "* Customer prefered City Hotel more than Resort Hotel "
      ],
      "metadata": {
        "id": "lyxQL36olnoM"
      }
    },
    {
      "cell_type": "markdown",
      "source": [
        "##2. Number of Booking month-wise"
      ],
      "metadata": {
        "id": "T4PM9OpIoeCv"
      }
    },
    {
      "cell_type": "code",
      "source": [
        "monthly_data = df[\"arrival_date_month\"].value_counts().reset_index(drop = False)\n",
        "monthly_data = monthly_data.set_index(\"index\")\n",
        "monthly_data = monthly_data.sort_values( by = \"arrival_date_month\", ascending = False)\n",
        "print(monthly_data)\n",
        "\n",
        "monthly_data.plot(kind = \"bar\")\n",
        "plt.title('Monthly booking details')\n",
        "plt.xlabel('Months')\n",
        "plt.ylabel('No.of Customers');\n"
      ],
      "metadata": {
        "id": "OHDehuA-k4NA",
        "colab": {
          "base_uri": "https://localhost:8080/",
          "height": 637
        },
        "outputId": "8195a721-6cca-4f18-cd29-381bc71a1c13"
      },
      "execution_count": null,
      "outputs": [
        {
          "output_type": "stream",
          "name": "stdout",
          "text": [
            "           arrival_date_month\n",
            "index                        \n",
            "August                  12974\n",
            "July                    11741\n",
            "May                     11354\n",
            "April                   10907\n",
            "October                 10770\n",
            "June                    10361\n",
            "September               10034\n",
            "March                    9400\n",
            "February                 7785\n",
            "November                 6490\n",
            "December                 6445\n",
            "January                  5659\n"
          ]
        },
        {
          "output_type": "display_data",
          "data": {
            "text/plain": [
              "<Figure size 720x360 with 1 Axes>"
            ],
            "image/png": "[encoded data removed]"
          },
          "metadata": {
            "needs_background": "light"
          }
        }
      ]
    },
    {
      "cell_type": "markdown",
      "source": [
        "Obervation:\n",
        "* Bookings in August is highest \n",
        "* January found lowest numbers in booking counts. "
      ],
      "metadata": {
        "id": "sjLpmVaWpVtp"
      }
    },
    {
      "cell_type": "markdown",
      "source": [
        "##3. Average daily rates(adr) for both hotels in every month"
      ],
      "metadata": {
        "id": "I6SjawREpfAo"
      }
    },
    {
      "cell_type": "code",
      "source": [
        "plt.figure(figsize=(15,6))\n",
        "sns.lineplot(data = df, x = 'arrival_date_month', y = 'adr', hue = 'hotel').set_title('Average daily rates for both hotels in every Month')\n",
        "plt.tight_layout();"
      ],
      "metadata": {
        "colab": {
          "base_uri": "https://localhost:8080/",
          "height": 441
        },
        "id": "UvGWjxcMpLOi",
        "outputId": "33fffb5c-a63b-47bb-f609-d41613c33a71"
      },
      "execution_count": null,
      "outputs": [
        {
          "output_type": "display_data",
          "data": {
            "text/plain": [
              "<Figure size 1080x432 with 1 Axes>"
            ],
            "image/png": "[encoded data removed]"
          },
          "metadata": {
            "needs_background": "light"
          }
        }
      ]
    },
    {
      "cell_type": "markdown",
      "source": [
        "Observation:\n",
        "* In the month of July and till the last week of August Resort hotels received more \"adr\" than City hotel\n",
        "* City hotel although dominating in 'adr' in remaining months of the year."
      ],
      "metadata": {
        "id": "KnRTO35UpvKt"
      }
    },
    {
      "cell_type": "markdown",
      "source": [
        "## 4. Stays in weekend and weekdays in hotels vs Bookings"
      ],
      "metadata": {
        "id": "zJxhqkftp2Bk"
      }
    },
    {
      "cell_type": "code",
      "source": [
        "stay = df[[\"stays_in_week_nights\",\"stays_in_weekend_nights\"]].value_counts()\n",
        "stay.plot(kind = \"bar\");"
      ],
      "metadata": {
        "colab": {
          "base_uri": "https://localhost:8080/",
          "height": 351
        },
        "id": "sr8c2C-5poYA",
        "outputId": "f4bd284d-7a12-4f59-fa09-7c8da7b38aca"
      },
      "execution_count": null,
      "outputs": [
        {
          "output_type": "display_data",
          "data": {
            "text/plain": [
              "<Figure size 720x360 with 1 Axes>"
            ],
            "image/png": "[encoded data removed]"
          },
          "metadata": {
            "needs_background": "light"
          }
        }
      ]
    },
    {
      "cell_type": "markdown",
      "source": [
        "Observation:\n",
        "* Maximum Booking done by customer for \"2\" weeknights stay and \"0\" weekend nights "
      ],
      "metadata": {
        "id": "E8R-KJn3qPPw"
      }
    },
    {
      "cell_type": "code",
      "source": [
        "# On further observation\n",
        "stay = df[[\"stays_in_week_nights\",\"stays_in_weekend_nights\"]].mean()\n",
        "stay.plot(kind = \"bar\");"
      ],
      "metadata": {
        "colab": {
          "base_uri": "https://localhost:8080/",
          "height": 436
        },
        "id": "kXCT1FrJptGM",
        "outputId": "191041d2-0292-43f0-a0b1-f3a5deb4672a"
      },
      "execution_count": null,
      "outputs": [
        {
          "output_type": "display_data",
          "data": {
            "text/plain": [
              "<Figure size 720x360 with 1 Axes>"
            ],
            "image/png": "[encoded data removed]"
          },
          "metadata": {
            "needs_background": "light"
          }
        }
      ]
    },
    {
      "cell_type": "markdown",
      "source": [
        "Observation:\n",
        "* On average, customers booking for 2-3 week-nights stay and 1 weekend-nights stay"
      ],
      "metadata": {
        "id": "FbsUvOzqqX4k"
      }
    },
    {
      "cell_type": "markdown",
      "source": [
        "## 5. Count of adults,children,babies in booking"
      ],
      "metadata": {
        "id": "DOi4tirUqkeX"
      }
    },
    {
      "cell_type": "code",
      "source": [
        "fig, (ax1,ax2,ax3) = plt.subplots(1,3,figsize = (15, 5))\n",
        "sns.countplot(df['adults'],ax=ax1)\n",
        "ax1.title.set_text('No.of adults')\n",
        "\n",
        "sns.countplot(df['children'],ax=ax2)\n",
        "ax2.title.set_text('No. of children')\n",
        "\n",
        "sns.countplot(df['babies'],ax=ax3)\n",
        "ax3.title.set_text('No. of babies')"
      ],
      "metadata": {
        "colab": {
          "base_uri": "https://localhost:8080/",
          "height": 350
        },
        "id": "mVkfkiHtqpzu",
        "outputId": "d0c4fb4d-272e-4276-e6af-516f97a2bbab"
      },
      "execution_count": null,
      "outputs": [
        {
          "output_type": "display_data",
          "data": {
            "text/plain": [
              "<Figure size 1080x360 with 3 Axes>"
            ],
            "image/png": "[encoded data removed]"
          },
          "metadata": {
            "needs_background": "light"
          }
        }
      ]
    },
    {
      "cell_type": "markdown",
      "source": [
        "Observation:\n",
        "* Bookings are mostly made for 2 adults with 1 children in combination"
      ],
      "metadata": {
        "id": "FMLSsUmJqwu6"
      }
    },
    {
      "cell_type": "markdown",
      "source": [
        "## 6. Preference of the meal by customer"
      ],
      "metadata": {
        "id": "jO-_HhHnq0zT"
      }
    },
    {
      "cell_type": "code",
      "source": [
        "plt.figure(figsize=(10,6))\n",
        "df[\"meal\"].value_counts().plot(kind = \"bar\")\n",
        "plt.title('Preferred Meal')\n",
        "plt.xlabel('Meal type')\n",
        "plt.ylabel('count');"
      ],
      "metadata": {
        "colab": {
          "base_uri": "https://localhost:8080/",
          "height": 446
        },
        "id": "_PzkNPGgqxJ0",
        "outputId": "da2a9a15-05d3-46af-80b8-29600fbb882d"
      },
      "execution_count": null,
      "outputs": [
        {
          "output_type": "display_data",
          "data": {
            "text/plain": [
              "<Figure size 720x432 with 1 Axes>"
            ],
            "image/png": "[encoded data removed]"
          },
          "metadata": {
            "needs_background": "light"
          }
        }
      ]
    },
    {
      "cell_type": "markdown",
      "source": [
        "Observation:\n",
        "* Customers of any type preferring \"BB\" Bed and breakfast type of meals."
      ],
      "metadata": {
        "id": "nDe_gbZ-q7rR"
      }
    },
    {
      "cell_type": "markdown",
      "source": [
        "##7. Top 10 country of origin of customer "
      ],
      "metadata": {
        "id": "1lwRkSFOXPr0"
      }
    },
    {
      "cell_type": "code",
      "source": [
        "df[\"country\"].value_counts()[0:10].plot(kind='bar')\n",
        "\n",
        "plt.title('Top 10 origin country of customer')\n",
        "plt.xlabel('Countries')\n",
        "plt.ylabel('No.of Customers');"
      ],
      "metadata": {
        "id": "iAFxxtNOWhzp",
        "colab": {
          "base_uri": "https://localhost:8080/",
          "height": 361
        },
        "outputId": "a692a183-96fc-47e0-9998-1809c8219ef8"
      },
      "execution_count": 37,
      "outputs": [
        {
          "output_type": "display_data",
          "data": {
            "text/plain": [
              "<Figure size 720x360 with 1 Axes>"
            ],
            "image/png": "[encoded data removed]"
          },
          "metadata": {
            "needs_background": "light"
          }
        }
      ]
    },
    {
      "cell_type": "markdown",
      "source": [
        "Observation:\n",
        "* It should be noted that more number of bookings done by customer from country PRT(Portugal)"
      ],
      "metadata": {
        "id": "flRLgR1PXWiH"
      }
    },
    {
      "cell_type": "markdown",
      "source": [
        "## 8. Market_segment and bookings  "
      ],
      "metadata": {
        "id": "H41cMsagXZL_"
      }
    },
    {
      "cell_type": "code",
      "source": [
        "plt.figure(figsize=(10,6))\n",
        "sns.countplot(df['market_segment'],order=pd.value_counts(df['market_segment']).index,hue=df['hotel'],palette='Set2')\n",
        "plt.title('Bookings by market-segment');"
      ],
      "metadata": {
        "colab": {
          "base_uri": "https://localhost:8080/",
          "height": 405
        },
        "id": "X_vL8eJBXTtQ",
        "outputId": "37f79984-1389-4a70-9a51-8669e710a6da"
      },
      "execution_count": 38,
      "outputs": [
        {
          "output_type": "display_data",
          "data": {
            "text/plain": [
              "<Figure size 720x432 with 1 Axes>"
            ],
            "image/png": "[encoded data removed]"
          },
          "metadata": {
            "needs_background": "light"
          }
        }
      ]
    },
    {
      "cell_type": "markdown",
      "source": [
        "Observation:\n",
        "* Travel agency (TA) or Tour operator (TO) Plays vital role in Hotel booking\n",
        "* Except \"Direct bookings\", all market-segment has more number of bookings in  city hotel type.\n"
      ],
      "metadata": {
        "id": "pzGl12hlXgFY"
      }
    },
    {
      "cell_type": "markdown",
      "source": [
        "## 9. Preference of Room types by customer"
      ],
      "metadata": {
        "id": "Xhj8o5SqXicH"
      }
    },
    {
      "cell_type": "code",
      "source": [
        "plt.figure(figsize=(10,6))\n",
        "df[\"reserved_room_type\"].value_counts().plot(kind = \"bar\")\n",
        "plt.title('Preference of Room types by customer')\n",
        "plt.xlabel('Types of Room types')\n",
        "plt.ylabel('No. of Bookings');"
      ],
      "metadata": {
        "colab": {
          "base_uri": "https://localhost:8080/",
          "height": 402
        },
        "id": "mWoQWBbCXeEu",
        "outputId": "a49fd3d5-7382-4172-e540-b311d609bc8c"
      },
      "execution_count": 39,
      "outputs": [
        {
          "output_type": "display_data",
          "data": {
            "text/plain": [
              "<Figure size 720x432 with 1 Axes>"
            ],
            "image/png": "[encoded data removed]"
          },
          "metadata": {
            "needs_background": "light"
          }
        }
      ]
    },
    {
      "cell_type": "markdown",
      "source": [
        "Observation:\n",
        "* Room type of \"A\" preferred mostly by customers\n",
        "* Also it should be note the maximum numbers of booking done in the rooms type of A,D,E than others with minimum number of bookings"
      ],
      "metadata": {
        "id": "N1tBDOlNXo_0"
      }
    },
    {
      "cell_type": "markdown",
      "source": [
        "## 10.Rooms assigned to customer vs Rooms Reserved by the customer"
      ],
      "metadata": {
        "id": "PlSR5xhyXwo2"
      }
    },
    {
      "cell_type": "code",
      "source": [
        "relation = pd.crosstab(index=df['reserved_room_type'],columns=df['assigned_room_type'],normalize='index',margins=True).round(2)*100"
      ],
      "metadata": {
        "id": "6ND8NXFQXmDc"
      },
      "execution_count": 40,
      "outputs": []
    },
    {
      "cell_type": "code",
      "source": [
        "relation"
      ],
      "metadata": {
        "colab": {
          "base_uri": "https://localhost:8080/",
          "height": 394
        },
        "id": "f4ioTOeyX1TX",
        "outputId": "da5e81c7-d1dc-48f3-cf84-6dca3cc574c6"
      },
      "execution_count": 41,
      "outputs": [
        {
          "output_type": "execute_result",
          "data": {
            "text/plain": [
              "assigned_room_type     A     B     C     D     E     F     G     H    I    K  \\\n",
              "reserved_room_type                                                             \n",
              "A                   85.0   1.0   2.0   9.0   1.0   0.0   0.0   0.0  0.0  0.0   \n",
              "B                    9.0  89.0   0.0   0.0   0.0   0.0   1.0   0.0  0.0  0.0   \n",
              "C                    1.0   0.0  95.0   1.0   0.0   0.0   1.0   1.0  1.0  0.0   \n",
              "D                    2.0   0.0   0.0  92.0   4.0   1.0   0.0   0.0  0.0  0.0   \n",
              "E                    0.0   0.0   0.0   0.0  90.0   7.0   2.0   0.0  1.0  0.0   \n",
              "F                    0.0   0.0   0.0   0.0   1.0  94.0   4.0   0.0  0.0  0.0   \n",
              "G                    0.0   0.0   0.0   0.0   0.0   1.0  97.0   0.0  1.0  0.0   \n",
              "H                    0.0   0.0   0.0   0.0   0.0   0.0   2.0  97.0  1.0  0.0   \n",
              "L                   17.0  17.0  17.0   0.0   0.0  17.0   0.0  17.0  0.0  0.0   \n",
              "All                 63.0   2.0   2.0  21.0   6.0   3.0   2.0   1.0  0.0  0.0   \n",
              "\n",
              "assigned_room_type     L  \n",
              "reserved_room_type        \n",
              "A                    0.0  \n",
              "B                    0.0  \n",
              "C                    0.0  \n",
              "D                    0.0  \n",
              "E                    0.0  \n",
              "F                    0.0  \n",
              "G                    0.0  \n",
              "H                    0.0  \n",
              "L                   17.0  \n",
              "All                  0.0  "
            ],
            "text/html": [
              "\n",
              "  <div id=\"df-d03ce5df-33bc-4486-832b-c4fbc0fb4b25\">\n",
              "    <div class=\"colab-df-container\">\n",
              "      <div>\n",
              "<style scoped>\n",
              "    .dataframe tbody tr th:only-of-type {\n",
              "        vertical-align: middle;\n",
              "    }\n",
              "\n",
              "    .dataframe tbody tr th {\n",
              "        vertical-align: top;\n",
              "    }\n",
              "\n",
              "    .dataframe thead th {\n",
              "        text-align: right;\n",
              "    }\n",
              "</style>\n",
              "<table border=\"1\" class=\"dataframe\">\n",
              "  <thead>\n",
              "    <tr style=\"text-align: right;\">\n",
              "      <th>assigned_room_type</th>\n",
              "      <th>A</th>\n",
              "      <th>B</th>\n",
              "      <th>C</th>\n",
              "      <th>D</th>\n",
              "      <th>E</th>\n",
              "      <th>F</th>\n",
              "      <th>G</th>\n",
              "      <th>H</th>\n",
              "      <th>I</th>\n",
              "      <th>K</th>\n",
              "      <th>L</th>\n",
              "    </tr>\n",
              "    <tr>\n",
              "      <th>reserved_room_type</th>\n",
              "      <th></th>\n",
              "      <th></th>\n",
              "      <th></th>\n",
              "      <th></th>\n",
              "      <th></th>\n",
              "      <th></th>\n",
              "      <th></th>\n",
              "      <th></th>\n",
              "      <th></th>\n",
              "      <th></th>\n",
              "      <th></th>\n",
              "    </tr>\n",
              "  </thead>\n",
              "  <tbody>\n",
              "    <tr>\n",
              "      <th>A</th>\n",
              "      <td>85.0</td>\n",
              "      <td>1.0</td>\n",
              "      <td>2.0</td>\n",
              "      <td>9.0</td>\n",
              "      <td>1.0</td>\n",
              "      <td>0.0</td>\n",
              "      <td>0.0</td>\n",
              "      <td>0.0</td>\n",
              "      <td>0.0</td>\n",
              "      <td>0.0</td>\n",
              "      <td>0.0</td>\n",
              "    </tr>\n",
              "    <tr>\n",
              "      <th>B</th>\n",
              "      <td>9.0</td>\n",
              "      <td>89.0</td>\n",
              "      <td>0.0</td>\n",
              "      <td>0.0</td>\n",
              "      <td>0.0</td>\n",
              "      <td>0.0</td>\n",
              "      <td>1.0</td>\n",
              "      <td>0.0</td>\n",
              "      <td>0.0</td>\n",
              "      <td>0.0</td>\n",
              "      <td>0.0</td>\n",
              "    </tr>\n",
              "    <tr>\n",
              "      <th>C</th>\n",
              "      <td>1.0</td>\n",
              "      <td>0.0</td>\n",
              "      <td>95.0</td>\n",
              "      <td>1.0</td>\n",
              "      <td>0.0</td>\n",
              "      <td>0.0</td>\n",
              "      <td>1.0</td>\n",
              "      <td>1.0</td>\n",
              "      <td>1.0</td>\n",
              "      <td>0.0</td>\n",
              "      <td>0.0</td>\n",
              "    </tr>\n",
              "    <tr>\n",
              "      <th>D</th>\n",
              "      <td>2.0</td>\n",
              "      <td>0.0</td>\n",
              "      <td>0.0</td>\n",
              "      <td>92.0</td>\n",
              "      <td>4.0</td>\n",
              "      <td>1.0</td>\n",
              "      <td>0.0</td>\n",
              "      <td>0.0</td>\n",
              "      <td>0.0</td>\n",
              "      <td>0.0</td>\n",
              "      <td>0.0</td>\n",
              "    </tr>\n",
              "    <tr>\n",
              "      <th>E</th>\n",
              "      <td>0.0</td>\n",
              "      <td>0.0</td>\n",
              "      <td>0.0</td>\n",
              "      <td>0.0</td>\n",
              "      <td>90.0</td>\n",
              "      <td>7.0</td>\n",
              "      <td>2.0</td>\n",
              "      <td>0.0</td>\n",
              "      <td>1.0</td>\n",
              "      <td>0.0</td>\n",
              "      <td>0.0</td>\n",
              "    </tr>\n",
              "    <tr>\n",
              "      <th>F</th>\n",
              "      <td>0.0</td>\n",
              "      <td>0.0</td>\n",
              "      <td>0.0</td>\n",
              "      <td>0.0</td>\n",
              "      <td>1.0</td>\n",
              "      <td>94.0</td>\n",
              "      <td>4.0</td>\n",
              "      <td>0.0</td>\n",
              "      <td>0.0</td>\n",
              "      <td>0.0</td>\n",
              "      <td>0.0</td>\n",
              "    </tr>\n",
              "    <tr>\n",
              "      <th>G</th>\n",
              "      <td>0.0</td>\n",
              "      <td>0.0</td>\n",
              "      <td>0.0</td>\n",
              "      <td>0.0</td>\n",
              "      <td>0.0</td>\n",
              "      <td>1.0</td>\n",
              "      <td>97.0</td>\n",
              "      <td>0.0</td>\n",
              "      <td>1.0</td>\n",
              "      <td>0.0</td>\n",
              "      <td>0.0</td>\n",
              "    </tr>\n",
              "    <tr>\n",
              "      <th>H</th>\n",
              "      <td>0.0</td>\n",
              "      <td>0.0</td>\n",
              "      <td>0.0</td>\n",
              "      <td>0.0</td>\n",
              "      <td>0.0</td>\n",
              "      <td>0.0</td>\n",
              "      <td>2.0</td>\n",
              "      <td>97.0</td>\n",
              "      <td>1.0</td>\n",
              "      <td>0.0</td>\n",
              "      <td>0.0</td>\n",
              "    </tr>\n",
              "    <tr>\n",
              "      <th>L</th>\n",
              "      <td>17.0</td>\n",
              "      <td>17.0</td>\n",
              "      <td>17.0</td>\n",
              "      <td>0.0</td>\n",
              "      <td>0.0</td>\n",
              "      <td>17.0</td>\n",
              "      <td>0.0</td>\n",
              "      <td>17.0</td>\n",
              "      <td>0.0</td>\n",
              "      <td>0.0</td>\n",
              "      <td>17.0</td>\n",
              "    </tr>\n",
              "    <tr>\n",
              "      <th>All</th>\n",
              "      <td>63.0</td>\n",
              "      <td>2.0</td>\n",
              "      <td>2.0</td>\n",
              "      <td>21.0</td>\n",
              "      <td>6.0</td>\n",
              "      <td>3.0</td>\n",
              "      <td>2.0</td>\n",
              "      <td>1.0</td>\n",
              "      <td>0.0</td>\n",
              "      <td>0.0</td>\n",
              "      <td>0.0</td>\n",
              "    </tr>\n",
              "  </tbody>\n",
              "</table>\n",
              "</div>\n",
              "      <button class=\"colab-df-convert\" onclick=\"convertToInteractive('df-d03ce5df-33bc-4486-832b-c4fbc0fb4b25')\"\n",
              "              title=\"Convert this dataframe to an interactive table.\"\n",
              "              style=\"display:none;\">\n",
              "        \n",
              "  <svg xmlns=\"http://www.w3.org/2000/svg\" height=\"24px\"viewBox=\"0 0 24 24\"\n",
              "       width=\"24px\">\n",
              "    <path d=\"M0 0h24v24H0V0z\" fill=\"none\"/>\n",
              "    <path d=\"M18.56 5.44l.94 2.06.94-2.06 2.06-.94-2.06-.94-.94-2.06-.94 2.06-2.06.94zm-11 1L8.5 8.5l.94-2.06 2.06-.94-2.06-.94L8.5 2.5l-.94 2.06-2.06.94zm10 10l.94 2.06.94-2.06 2.06-.94-2.06-.94-.94-2.06-.94 2.06-2.06.94z\"/><path d=\"M17.41 7.96l-1.37-1.37c-.4-.4-.92-.59-1.43-.59-.52 0-1.04.2-1.43.59L10.3 9.45l-7.72 7.72c-.78.78-.78 2.05 0 2.83L4 21.41c.39.39.9.59 1.41.59.51 0 1.02-.2 1.41-.59l7.78-7.78 2.81-2.81c.8-.78.8-2.07 0-2.86zM5.41 20L4 18.59l7.72-7.72 1.47 1.35L5.41 20z\"/>\n",
              "  </svg>\n",
              "      </button>\n",
              "      \n",
              "  <style>\n",
              "    .colab-df-container {\n",
              "      display:flex;\n",
              "      flex-wrap:wrap;\n",
              "      gap: 12px;\n",
              "    }\n",
              "\n",
              "    .colab-df-convert {\n",
              "      background-color: #E8F0FE;\n",
              "      border: none;\n",
              "      border-radius: 50%;\n",
              "      cursor: pointer;\n",
              "      display: none;\n",
              "      fill: #1967D2;\n",
              "      height: 32px;\n",
              "      padding: 0 0 0 0;\n",
              "      width: 32px;\n",
              "    }\n",
              "\n",
              "    .colab-df-convert:hover {\n",
              "      background-color: #E2EBFA;\n",
              "      box-shadow: 0px 1px 2px rgba(60, 64, 67, 0.3), 0px 1px 3px 1px rgba(60, 64, 67, 0.15);\n",
              "      fill: #174EA6;\n",
              "    }\n",
              "\n",
              "    [theme=dark] .colab-df-convert {\n",
              "      background-color: #3B4455;\n",
              "      fill: #D2E3FC;\n",
              "    }\n",
              "\n",
              "    [theme=dark] .colab-df-convert:hover {\n",
              "      background-color: #434B5C;\n",
              "      box-shadow: 0px 1px 3px 1px rgba(0, 0, 0, 0.15);\n",
              "      filter: drop-shadow(0px 1px 2px rgba(0, 0, 0, 0.3));\n",
              "      fill: #FFFFFF;\n",
              "    }\n",
              "  </style>\n",
              "\n",
              "      <script>\n",
              "        const buttonEl =\n",
              "          document.querySelector('#df-d03ce5df-33bc-4486-832b-c4fbc0fb4b25 button.colab-df-convert');\n",
              "        buttonEl.style.display =\n",
              "          google.colab.kernel.accessAllowed ? 'block' : 'none';\n",
              "\n",
              "        async function convertToInteractive(key) {\n",
              "          const element = document.querySelector('#df-d03ce5df-33bc-4486-832b-c4fbc0fb4b25');\n",
              "          const dataTable =\n",
              "            await google.colab.kernel.invokeFunction('convertToInteractive',\n",
              "                                                     [key], {});\n",
              "          if (!dataTable) return;\n",
              "\n",
              "          const docLinkHtml = 'Like what you see? Visit the ' +\n",
              "            '<a target=\"_blank\" href=https://colab.research.google.com/notebooks/data_table.ipynb>data table notebook</a>'\n",
              "            + ' to learn more about interactive tables.';\n",
              "          element.innerHTML = '';\n",
              "          dataTable['output_type'] = 'display_data';\n",
              "          await google.colab.output.renderOutput(dataTable, element);\n",
              "          const docLink = document.createElement('div');\n",
              "          docLink.innerHTML = docLinkHtml;\n",
              "          element.appendChild(docLink);\n",
              "        }\n",
              "      </script>\n",
              "    </div>\n",
              "  </div>\n",
              "  "
            ]
          },
          "metadata": {},
          "execution_count": 41
        }
      ]
    },
    {
      "cell_type": "markdown",
      "source": [
        "Obsertion:\n",
        "*  From crosstab, relationship of reserved and assigned rooms found.\n",
        "* Hotel ensured that, 97.0 % of Customer getting the same room type as reserved in room type \"G\" and \"H\"\n",
        "* Lowest possibility of getting the same room type when reserved in room type \"L\"\n",
        "* AS we know, maximum number of booking done for room type \"A\" which ensured 85.0% of same room as reserved by the customer"
      ],
      "metadata": {
        "id": "S0qXSRYYX5T7"
      }
    },
    {
      "cell_type": "code",
      "source": [
        ""
      ],
      "metadata": {
        "id": "XUGp-Er-X2rB"
      },
      "execution_count": null,
      "outputs": []
    }
  ]
}